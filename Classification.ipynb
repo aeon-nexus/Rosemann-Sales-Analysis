{
 "cells": [
  {
   "cell_type": "code",
   "execution_count": 39,
   "metadata": {},
   "outputs": [],
   "source": [
    "%matplotlib inline\n",
    "%config IPCompleter.greedy=True\n",
    "import numpy as np\n",
    "import pandas as pd\n",
    "import matplotlib.pyplot as plt\n",
    "import seaborn as sns\n",
    "from sklearn.svm import SVC\n",
    "from sklearn.ensemble import RandomForestClassifier\n",
    "from sklearn.preprocessing import LabelEncoder\n",
    "from sklearn.model_selection import train_test_split\n",
    "from sklearn.model_selection import ShuffleSplit\n",
    "from sklearn.model_selection import cross_val_score\n",
    "from sklearn.grid_search import GridSearchCV\n",
    "from sklearn.metrics import confusion_matrix\n",
    "from time import strptime"
   ]
  },
  {
   "cell_type": "code",
   "execution_count": 2,
   "metadata": {},
   "outputs": [
    {
     "name": "stderr",
     "output_type": "stream",
     "text": [
      "/usr/lib/python3.6/site-packages/IPython/core/interactiveshell.py:2728: DtypeWarning: Columns (7) have mixed types. Specify dtype option on import or set low_memory=False.\n",
      "  interactivity=interactivity, compiler=compiler, result=result)\n"
     ]
    }
   ],
   "source": [
    "#Read CSV files into DataFrames.\n",
    "sales_df = pd.read_csv('train.csv', parse_dates = [2])\n",
    "store_df = pd.read_csv('store.csv')\n",
    "test_df = pd.read_csv('test.csv', parse_dates = [3])"
   ]
  },
  {
   "cell_type": "code",
   "execution_count": 3,
   "metadata": {},
   "outputs": [
    {
     "data": {
      "text/html": [
       "<div>\n",
       "<style>\n",
       "    .dataframe thead tr:only-child th {\n",
       "        text-align: right;\n",
       "    }\n",
       "\n",
       "    .dataframe thead th {\n",
       "        text-align: left;\n",
       "    }\n",
       "\n",
       "    .dataframe tbody tr th {\n",
       "        vertical-align: top;\n",
       "    }\n",
       "</style>\n",
       "<table border=\"1\" class=\"dataframe\">\n",
       "  <thead>\n",
       "    <tr style=\"text-align: right;\">\n",
       "      <th></th>\n",
       "      <th>Store</th>\n",
       "      <th>DayOfWeek</th>\n",
       "      <th>Date</th>\n",
       "      <th>Sales</th>\n",
       "      <th>Customers</th>\n",
       "      <th>Open</th>\n",
       "      <th>Promo</th>\n",
       "      <th>StateHoliday</th>\n",
       "      <th>SchoolHoliday</th>\n",
       "    </tr>\n",
       "  </thead>\n",
       "  <tbody>\n",
       "    <tr>\n",
       "      <th>0</th>\n",
       "      <td>1</td>\n",
       "      <td>5</td>\n",
       "      <td>2015-07-31</td>\n",
       "      <td>5263</td>\n",
       "      <td>555</td>\n",
       "      <td>1</td>\n",
       "      <td>1</td>\n",
       "      <td>0</td>\n",
       "      <td>1</td>\n",
       "    </tr>\n",
       "    <tr>\n",
       "      <th>1</th>\n",
       "      <td>2</td>\n",
       "      <td>5</td>\n",
       "      <td>2015-07-31</td>\n",
       "      <td>6064</td>\n",
       "      <td>625</td>\n",
       "      <td>1</td>\n",
       "      <td>1</td>\n",
       "      <td>0</td>\n",
       "      <td>1</td>\n",
       "    </tr>\n",
       "    <tr>\n",
       "      <th>2</th>\n",
       "      <td>3</td>\n",
       "      <td>5</td>\n",
       "      <td>2015-07-31</td>\n",
       "      <td>8314</td>\n",
       "      <td>821</td>\n",
       "      <td>1</td>\n",
       "      <td>1</td>\n",
       "      <td>0</td>\n",
       "      <td>1</td>\n",
       "    </tr>\n",
       "    <tr>\n",
       "      <th>3</th>\n",
       "      <td>4</td>\n",
       "      <td>5</td>\n",
       "      <td>2015-07-31</td>\n",
       "      <td>13995</td>\n",
       "      <td>1498</td>\n",
       "      <td>1</td>\n",
       "      <td>1</td>\n",
       "      <td>0</td>\n",
       "      <td>1</td>\n",
       "    </tr>\n",
       "    <tr>\n",
       "      <th>4</th>\n",
       "      <td>5</td>\n",
       "      <td>5</td>\n",
       "      <td>2015-07-31</td>\n",
       "      <td>4822</td>\n",
       "      <td>559</td>\n",
       "      <td>1</td>\n",
       "      <td>1</td>\n",
       "      <td>0</td>\n",
       "      <td>1</td>\n",
       "    </tr>\n",
       "  </tbody>\n",
       "</table>\n",
       "</div>"
      ],
      "text/plain": [
       "   Store  DayOfWeek       Date  Sales  Customers  Open  Promo StateHoliday  \\\n",
       "0      1          5 2015-07-31   5263        555     1      1            0   \n",
       "1      2          5 2015-07-31   6064        625     1      1            0   \n",
       "2      3          5 2015-07-31   8314        821     1      1            0   \n",
       "3      4          5 2015-07-31  13995       1498     1      1            0   \n",
       "4      5          5 2015-07-31   4822        559     1      1            0   \n",
       "\n",
       "   SchoolHoliday  \n",
       "0              1  \n",
       "1              1  \n",
       "2              1  \n",
       "3              1  \n",
       "4              1  "
      ]
     },
     "execution_count": 3,
     "metadata": {},
     "output_type": "execute_result"
    }
   ],
   "source": [
    "sales_df.head()"
   ]
  },
  {
   "cell_type": "code",
   "execution_count": 4,
   "metadata": {},
   "outputs": [
    {
     "data": {
      "text/html": [
       "<div>\n",
       "<style>\n",
       "    .dataframe thead tr:only-child th {\n",
       "        text-align: right;\n",
       "    }\n",
       "\n",
       "    .dataframe thead th {\n",
       "        text-align: left;\n",
       "    }\n",
       "\n",
       "    .dataframe tbody tr th {\n",
       "        vertical-align: top;\n",
       "    }\n",
       "</style>\n",
       "<table border=\"1\" class=\"dataframe\">\n",
       "  <thead>\n",
       "    <tr style=\"text-align: right;\">\n",
       "      <th></th>\n",
       "      <th>Store</th>\n",
       "      <th>StoreType</th>\n",
       "      <th>Assortment</th>\n",
       "      <th>CompetitionDistance</th>\n",
       "      <th>CompetitionOpenSinceMonth</th>\n",
       "      <th>CompetitionOpenSinceYear</th>\n",
       "      <th>Promo2</th>\n",
       "      <th>Promo2SinceWeek</th>\n",
       "      <th>Promo2SinceYear</th>\n",
       "      <th>PromoInterval</th>\n",
       "    </tr>\n",
       "  </thead>\n",
       "  <tbody>\n",
       "    <tr>\n",
       "      <th>0</th>\n",
       "      <td>1</td>\n",
       "      <td>c</td>\n",
       "      <td>a</td>\n",
       "      <td>1270.0</td>\n",
       "      <td>9.0</td>\n",
       "      <td>2008.0</td>\n",
       "      <td>0</td>\n",
       "      <td>NaN</td>\n",
       "      <td>NaN</td>\n",
       "      <td>NaN</td>\n",
       "    </tr>\n",
       "    <tr>\n",
       "      <th>1</th>\n",
       "      <td>2</td>\n",
       "      <td>a</td>\n",
       "      <td>a</td>\n",
       "      <td>570.0</td>\n",
       "      <td>11.0</td>\n",
       "      <td>2007.0</td>\n",
       "      <td>1</td>\n",
       "      <td>13.0</td>\n",
       "      <td>2010.0</td>\n",
       "      <td>Jan,Apr,Jul,Oct</td>\n",
       "    </tr>\n",
       "    <tr>\n",
       "      <th>2</th>\n",
       "      <td>3</td>\n",
       "      <td>a</td>\n",
       "      <td>a</td>\n",
       "      <td>14130.0</td>\n",
       "      <td>12.0</td>\n",
       "      <td>2006.0</td>\n",
       "      <td>1</td>\n",
       "      <td>14.0</td>\n",
       "      <td>2011.0</td>\n",
       "      <td>Jan,Apr,Jul,Oct</td>\n",
       "    </tr>\n",
       "    <tr>\n",
       "      <th>3</th>\n",
       "      <td>4</td>\n",
       "      <td>c</td>\n",
       "      <td>c</td>\n",
       "      <td>620.0</td>\n",
       "      <td>9.0</td>\n",
       "      <td>2009.0</td>\n",
       "      <td>0</td>\n",
       "      <td>NaN</td>\n",
       "      <td>NaN</td>\n",
       "      <td>NaN</td>\n",
       "    </tr>\n",
       "    <tr>\n",
       "      <th>4</th>\n",
       "      <td>5</td>\n",
       "      <td>a</td>\n",
       "      <td>a</td>\n",
       "      <td>29910.0</td>\n",
       "      <td>4.0</td>\n",
       "      <td>2015.0</td>\n",
       "      <td>0</td>\n",
       "      <td>NaN</td>\n",
       "      <td>NaN</td>\n",
       "      <td>NaN</td>\n",
       "    </tr>\n",
       "  </tbody>\n",
       "</table>\n",
       "</div>"
      ],
      "text/plain": [
       "   Store StoreType Assortment  CompetitionDistance  CompetitionOpenSinceMonth  \\\n",
       "0      1         c          a               1270.0                        9.0   \n",
       "1      2         a          a                570.0                       11.0   \n",
       "2      3         a          a              14130.0                       12.0   \n",
       "3      4         c          c                620.0                        9.0   \n",
       "4      5         a          a              29910.0                        4.0   \n",
       "\n",
       "   CompetitionOpenSinceYear  Promo2  Promo2SinceWeek  Promo2SinceYear  \\\n",
       "0                    2008.0       0              NaN              NaN   \n",
       "1                    2007.0       1             13.0           2010.0   \n",
       "2                    2006.0       1             14.0           2011.0   \n",
       "3                    2009.0       0              NaN              NaN   \n",
       "4                    2015.0       0              NaN              NaN   \n",
       "\n",
       "     PromoInterval  \n",
       "0              NaN  \n",
       "1  Jan,Apr,Jul,Oct  \n",
       "2  Jan,Apr,Jul,Oct  \n",
       "3              NaN  \n",
       "4              NaN  "
      ]
     },
     "execution_count": 4,
     "metadata": {},
     "output_type": "execute_result"
    }
   ],
   "source": [
    "store_df.head()"
   ]
  },
  {
   "cell_type": "code",
   "execution_count": 5,
   "metadata": {},
   "outputs": [
    {
     "data": {
      "text/html": [
       "<div>\n",
       "<style>\n",
       "    .dataframe thead tr:only-child th {\n",
       "        text-align: right;\n",
       "    }\n",
       "\n",
       "    .dataframe thead th {\n",
       "        text-align: left;\n",
       "    }\n",
       "\n",
       "    .dataframe tbody tr th {\n",
       "        vertical-align: top;\n",
       "    }\n",
       "</style>\n",
       "<table border=\"1\" class=\"dataframe\">\n",
       "  <thead>\n",
       "    <tr style=\"text-align: right;\">\n",
       "      <th></th>\n",
       "      <th>Id</th>\n",
       "      <th>Store</th>\n",
       "      <th>DayOfWeek</th>\n",
       "      <th>Date</th>\n",
       "      <th>Open</th>\n",
       "      <th>Promo</th>\n",
       "      <th>StateHoliday</th>\n",
       "      <th>SchoolHoliday</th>\n",
       "    </tr>\n",
       "  </thead>\n",
       "  <tbody>\n",
       "    <tr>\n",
       "      <th>0</th>\n",
       "      <td>1</td>\n",
       "      <td>1</td>\n",
       "      <td>4</td>\n",
       "      <td>2015-09-17</td>\n",
       "      <td>1.0</td>\n",
       "      <td>1</td>\n",
       "      <td>0</td>\n",
       "      <td>0</td>\n",
       "    </tr>\n",
       "    <tr>\n",
       "      <th>1</th>\n",
       "      <td>2</td>\n",
       "      <td>3</td>\n",
       "      <td>4</td>\n",
       "      <td>2015-09-17</td>\n",
       "      <td>1.0</td>\n",
       "      <td>1</td>\n",
       "      <td>0</td>\n",
       "      <td>0</td>\n",
       "    </tr>\n",
       "    <tr>\n",
       "      <th>2</th>\n",
       "      <td>3</td>\n",
       "      <td>7</td>\n",
       "      <td>4</td>\n",
       "      <td>2015-09-17</td>\n",
       "      <td>1.0</td>\n",
       "      <td>1</td>\n",
       "      <td>0</td>\n",
       "      <td>0</td>\n",
       "    </tr>\n",
       "    <tr>\n",
       "      <th>3</th>\n",
       "      <td>4</td>\n",
       "      <td>8</td>\n",
       "      <td>4</td>\n",
       "      <td>2015-09-17</td>\n",
       "      <td>1.0</td>\n",
       "      <td>1</td>\n",
       "      <td>0</td>\n",
       "      <td>0</td>\n",
       "    </tr>\n",
       "    <tr>\n",
       "      <th>4</th>\n",
       "      <td>5</td>\n",
       "      <td>9</td>\n",
       "      <td>4</td>\n",
       "      <td>2015-09-17</td>\n",
       "      <td>1.0</td>\n",
       "      <td>1</td>\n",
       "      <td>0</td>\n",
       "      <td>0</td>\n",
       "    </tr>\n",
       "  </tbody>\n",
       "</table>\n",
       "</div>"
      ],
      "text/plain": [
       "   Id  Store  DayOfWeek       Date  Open  Promo StateHoliday  SchoolHoliday\n",
       "0   1      1          4 2015-09-17   1.0      1            0              0\n",
       "1   2      3          4 2015-09-17   1.0      1            0              0\n",
       "2   3      7          4 2015-09-17   1.0      1            0              0\n",
       "3   4      8          4 2015-09-17   1.0      1            0              0\n",
       "4   5      9          4 2015-09-17   1.0      1            0              0"
      ]
     },
     "execution_count": 5,
     "metadata": {},
     "output_type": "execute_result"
    }
   ],
   "source": [
    "test_df.head()"
   ]
  },
  {
   "cell_type": "markdown",
   "metadata": {},
   "source": [
    "<article>\n",
    "<h3  style=\"text-decoration: underline;\">Observation</h3>\n",
    "<ul>\n",
    "<li>To Classify wheather a given day will be high sales or low sales, we need to associate the store data with daily sales data. So we need to join store and train dataframes.</li>\n",
    "<li>Also we can split the date field of daily sales into day, month and year as these are most likely more correlated to the amount of sales in a store.</li>\n",
    "<li>Also we can drop 'Customers' field as we wont have it in the test data.</li>\n",
    "</ul>\n",
    "</article>"
   ]
  },
  {
   "cell_type": "code",
   "execution_count": 6,
   "metadata": {},
   "outputs": [
    {
     "name": "stdout",
     "output_type": "stream",
     "text": [
      "              Store     DayOfWeek         Sales     Customers          Open  \\\n",
      "count  1.017209e+06  1.017209e+06  1.017209e+06  1.017209e+06  1.017209e+06   \n",
      "mean   5.584297e+02  3.998341e+00  5.773819e+03  6.331459e+02  8.301067e-01   \n",
      "std    3.219087e+02  1.997391e+00  3.849926e+03  4.644117e+02  3.755392e-01   \n",
      "min    1.000000e+00  1.000000e+00  0.000000e+00  0.000000e+00  0.000000e+00   \n",
      "25%    2.800000e+02  2.000000e+00  3.727000e+03  4.050000e+02  1.000000e+00   \n",
      "50%    5.580000e+02  4.000000e+00  5.744000e+03  6.090000e+02  1.000000e+00   \n",
      "75%    8.380000e+02  6.000000e+00  7.856000e+03  8.370000e+02  1.000000e+00   \n",
      "max    1.115000e+03  7.000000e+00  4.155100e+04  7.388000e+03  1.000000e+00   \n",
      "\n",
      "              Promo  SchoolHoliday  CompetitionDistance  \\\n",
      "count  1.017209e+06   1.017209e+06         1.014567e+06   \n",
      "mean   3.815145e-01   1.786467e-01         5.430086e+03   \n",
      "std    4.857586e-01   3.830564e-01         7.715324e+03   \n",
      "min    0.000000e+00   0.000000e+00         2.000000e+01   \n",
      "25%    0.000000e+00   0.000000e+00         7.100000e+02   \n",
      "50%    0.000000e+00   0.000000e+00         2.330000e+03   \n",
      "75%    1.000000e+00   0.000000e+00         6.890000e+03   \n",
      "max    1.000000e+00   1.000000e+00         7.586000e+04   \n",
      "\n",
      "       CompetitionOpenSinceMonth  CompetitionOpenSinceYear        Promo2  \\\n",
      "count              693861.000000             693861.000000  1.017209e+06   \n",
      "mean                    7.222866               2008.690228  5.005638e-01   \n",
      "std                     3.211832                  5.992644  4.999999e-01   \n",
      "min                     1.000000               1900.000000  0.000000e+00   \n",
      "25%                     4.000000               2006.000000  0.000000e+00   \n",
      "50%                     8.000000               2010.000000  1.000000e+00   \n",
      "75%                    10.000000               2013.000000  1.000000e+00   \n",
      "max                    12.000000               2015.000000  1.000000e+00   \n",
      "\n",
      "       Promo2SinceWeek  Promo2SinceYear  \n",
      "count    509178.000000    509178.000000  \n",
      "mean         23.269093      2011.752774  \n",
      "std          14.095973         1.662870  \n",
      "min           1.000000      2009.000000  \n",
      "25%          13.000000      2011.000000  \n",
      "50%          22.000000      2012.000000  \n",
      "75%          37.000000      2013.000000  \n",
      "max          50.000000      2015.000000  \n",
      "<class 'pandas.core.frame.DataFrame'>\n",
      "Int64Index: 1017209 entries, 0 to 1017208\n",
      "Data columns (total 18 columns):\n",
      "Store                        1017209 non-null int64\n",
      "DayOfWeek                    1017209 non-null int64\n",
      "Date                         1017209 non-null datetime64[ns]\n",
      "Sales                        1017209 non-null int64\n",
      "Customers                    1017209 non-null int64\n",
      "Open                         1017209 non-null int64\n",
      "Promo                        1017209 non-null int64\n",
      "StateHoliday                 1017209 non-null object\n",
      "SchoolHoliday                1017209 non-null int64\n",
      "StoreType                    1017209 non-null object\n",
      "Assortment                   1017209 non-null object\n",
      "CompetitionDistance          1014567 non-null float64\n",
      "CompetitionOpenSinceMonth    693861 non-null float64\n",
      "CompetitionOpenSinceYear     693861 non-null float64\n",
      "Promo2                       1017209 non-null int64\n",
      "Promo2SinceWeek              509178 non-null float64\n",
      "Promo2SinceYear              509178 non-null float64\n",
      "PromoInterval                509178 non-null object\n",
      "dtypes: datetime64[ns](1), float64(5), int64(8), object(4)\n",
      "memory usage: 147.5+ MB\n",
      "None\n",
      "Store                        False\n",
      "DayOfWeek                    False\n",
      "Date                         False\n",
      "Sales                        False\n",
      "Customers                    False\n",
      "Open                         False\n",
      "Promo                        False\n",
      "StateHoliday                 False\n",
      "SchoolHoliday                False\n",
      "StoreType                    False\n",
      "Assortment                   False\n",
      "CompetitionDistance           True\n",
      "CompetitionOpenSinceMonth     True\n",
      "CompetitionOpenSinceYear      True\n",
      "Promo2                       False\n",
      "Promo2SinceWeek               True\n",
      "Promo2SinceYear               True\n",
      "PromoInterval                 True\n",
      "dtype: bool\n"
     ]
    }
   ],
   "source": [
    "#Join the sales and store DataFrames into one.\n",
    "train_df = pd.merge(sales_df, store_df, on='Store')\n",
    "#Description of train DataFrame.\n",
    "print(train_df.describe())\n",
    "#Datatypes and fields of train DataFrame.\n",
    "print(train_df.info())\n",
    "#Fields Containing Missing Values in train DataFrame.\n",
    "print(train_df.isnull().any())"
   ]
  },
  {
   "cell_type": "code",
   "execution_count": 7,
   "metadata": {
    "collapsed": true
   },
   "outputs": [],
   "source": [
    "#Droping Customers\n",
    "train_df.drop('Customers', axis = 1, inplace = True)\n",
    "#Splitting Date field into Current Year, Month and Day.\n",
    "train_df['CurYear'] = train_df.Date.dt.year\n",
    "train_df['CurMonth'] = train_df.Date.dt.month\n",
    "train_df['CurDay'] = train_df.Date.dt.day"
   ]
  },
  {
   "cell_type": "markdown",
   "metadata": {},
   "source": [
    "<article>\n",
    "<h3  style=\"text-decoration: underline;\">Observation</h3>\n",
    "<ul>\n",
    "<li>For Classification we need some label field indicator, In our case we are trying to classify future performance\n",
    "of these stores.</li>\n",
    "<li>We can create our 'Performance' label from Sales field of train DataFrame.</li>\n",
    "<li>Also there is no sale on days when the shops are closed. So data on days when shops are closed are removed.</li> \n",
    "</ul>\n",
    "</article>"
   ]
  },
  {
   "cell_type": "code",
   "execution_count": 8,
   "metadata": {
    "collapsed": true
   },
   "outputs": [],
   "source": [
    "#Removing train DataFrame rows when Open field is 0\n",
    "train_df = train_df[train_df['Open'] == 1]\n",
    "#Remove the now redundant Open field\n",
    "train_df.drop('Open', axis = 1, inplace = True)"
   ]
  },
  {
   "cell_type": "code",
   "execution_count": 9,
   "metadata": {},
   "outputs": [
    {
     "name": "stdout",
     "output_type": "stream",
     "text": [
      "count    844392.000000\n",
      "mean       6955.514291\n",
      "std        3104.214680\n",
      "min           0.000000\n",
      "25%        4859.000000\n",
      "50%        6369.000000\n",
      "75%        8360.000000\n",
      "max       41551.000000\n",
      "Name: Sales, dtype: float64\n"
     ]
    },
    {
     "data": {
      "image/png": "[encoded data removed]",
      "text/plain": [
       "<matplotlib.figure.Figure at 0x7f4dc95a9e48>"
      ]
     },
     "metadata": {},
     "output_type": "display_data"
    }
   ],
   "source": [
    "#Sales Exploration to add a new field Performance.\n",
    "print(train_df['Sales'].describe())\n",
    "#Plotting the sales field to see its behaviour\n",
    "ax = sns.boxplot(x = 'Sales', data = train_df)"
   ]
  },
  {
   "cell_type": "code",
   "execution_count": 10,
   "metadata": {},
   "outputs": [
    {
     "data": {
      "image/png": "[encoded data removed]",
      "text/plain": [
       "<matplotlib.figure.Figure at 0x7f4d91f479b0>"
      ]
     },
     "metadata": {},
     "output_type": "display_data"
    }
   ],
   "source": [
    "#Plotting the Sales field with StoreType.\n",
    "ax = sns.boxplot(x = 'Sales', y = 'StoreType', data = train_df)"
   ]
  },
  {
   "cell_type": "markdown",
   "metadata": {},
   "source": [
    "<article>\n",
    "<h3  style=\"text-decoration: underline;\">Observation</h3>\n",
    "<ul>\n",
    "<li>Instead of using mean sales or median sales to create our label, we can use mean of each StoreType for partitioning sales data as High Performance and Low Performance.</li>\n",
    "<li>If the daily sales of a store is more than or equal to the average sales for that StoreType then we can classify them as high perfoming and otherwise low performing.</li>\n",
    "</ul>\n",
    "</article>"
   ]
  },
  {
   "cell_type": "code",
   "execution_count": 11,
   "metadata": {},
   "outputs": [
    {
     "name": "stdout",
     "output_type": "stream",
     "text": [
      "['c' 'a' 'd' 'b']\n",
      "             c            a            d             b\n",
      "0  6932.512755  6925.167661  6822.141881  10231.407505\n",
      "<class 'pandas.core.frame.DataFrame'>\n",
      "Int64Index: 844392 entries, 0 to 1017207\n",
      "Data columns (total 20 columns):\n",
      "Store                        844392 non-null int64\n",
      "DayOfWeek                    844392 non-null int64\n",
      "Date                         844392 non-null datetime64[ns]\n",
      "Sales                        844392 non-null int64\n",
      "Promo                        844392 non-null int64\n",
      "StateHoliday                 844392 non-null object\n",
      "SchoolHoliday                844392 non-null int64\n",
      "StoreType                    844392 non-null object\n",
      "Assortment                   844392 non-null object\n",
      "CompetitionDistance          842206 non-null float64\n",
      "CompetitionOpenSinceMonth    575773 non-null float64\n",
      "CompetitionOpenSinceYear     575773 non-null float64\n",
      "Promo2                       844392 non-null int64\n",
      "Promo2SinceWeek              421085 non-null float64\n",
      "Promo2SinceYear              421085 non-null float64\n",
      "PromoInterval                421085 non-null object\n",
      "CurYear                      844392 non-null int64\n",
      "CurMonth                     844392 non-null int64\n",
      "CurDay                       844392 non-null int64\n",
      "Performance                  844392 non-null int64\n",
      "dtypes: datetime64[ns](1), float64(5), int64(10), object(4)\n",
      "memory usage: 135.3+ MB\n",
      "None\n"
     ]
    },
    {
     "data": {
      "text/html": [
       "<div>\n",
       "<style>\n",
       "    .dataframe thead tr:only-child th {\n",
       "        text-align: right;\n",
       "    }\n",
       "\n",
       "    .dataframe thead th {\n",
       "        text-align: left;\n",
       "    }\n",
       "\n",
       "    .dataframe tbody tr th {\n",
       "        vertical-align: top;\n",
       "    }\n",
       "</style>\n",
       "<table border=\"1\" class=\"dataframe\">\n",
       "  <thead>\n",
       "    <tr style=\"text-align: right;\">\n",
       "      <th></th>\n",
       "      <th>Store</th>\n",
       "      <th>DayOfWeek</th>\n",
       "      <th>Date</th>\n",
       "      <th>Sales</th>\n",
       "      <th>Promo</th>\n",
       "      <th>StateHoliday</th>\n",
       "      <th>SchoolHoliday</th>\n",
       "      <th>StoreType</th>\n",
       "      <th>Assortment</th>\n",
       "      <th>CompetitionDistance</th>\n",
       "      <th>CompetitionOpenSinceMonth</th>\n",
       "      <th>CompetitionOpenSinceYear</th>\n",
       "      <th>Promo2</th>\n",
       "      <th>Promo2SinceWeek</th>\n",
       "      <th>Promo2SinceYear</th>\n",
       "      <th>PromoInterval</th>\n",
       "      <th>CurYear</th>\n",
       "      <th>CurMonth</th>\n",
       "      <th>CurDay</th>\n",
       "      <th>Performance</th>\n",
       "    </tr>\n",
       "  </thead>\n",
       "  <tbody>\n",
       "    <tr>\n",
       "      <th>0</th>\n",
       "      <td>1</td>\n",
       "      <td>5</td>\n",
       "      <td>2015-07-31</td>\n",
       "      <td>5263</td>\n",
       "      <td>1</td>\n",
       "      <td>0</td>\n",
       "      <td>1</td>\n",
       "      <td>c</td>\n",
       "      <td>a</td>\n",
       "      <td>1270.0</td>\n",
       "      <td>9.0</td>\n",
       "      <td>2008.0</td>\n",
       "      <td>0</td>\n",
       "      <td>NaN</td>\n",
       "      <td>NaN</td>\n",
       "      <td>NaN</td>\n",
       "      <td>2015</td>\n",
       "      <td>7</td>\n",
       "      <td>31</td>\n",
       "      <td>0</td>\n",
       "    </tr>\n",
       "    <tr>\n",
       "      <th>1</th>\n",
       "      <td>1</td>\n",
       "      <td>4</td>\n",
       "      <td>2015-07-30</td>\n",
       "      <td>5020</td>\n",
       "      <td>1</td>\n",
       "      <td>0</td>\n",
       "      <td>1</td>\n",
       "      <td>c</td>\n",
       "      <td>a</td>\n",
       "      <td>1270.0</td>\n",
       "      <td>9.0</td>\n",
       "      <td>2008.0</td>\n",
       "      <td>0</td>\n",
       "      <td>NaN</td>\n",
       "      <td>NaN</td>\n",
       "      <td>NaN</td>\n",
       "      <td>2015</td>\n",
       "      <td>7</td>\n",
       "      <td>30</td>\n",
       "      <td>0</td>\n",
       "    </tr>\n",
       "    <tr>\n",
       "      <th>2</th>\n",
       "      <td>1</td>\n",
       "      <td>3</td>\n",
       "      <td>2015-07-29</td>\n",
       "      <td>4782</td>\n",
       "      <td>1</td>\n",
       "      <td>0</td>\n",
       "      <td>1</td>\n",
       "      <td>c</td>\n",
       "      <td>a</td>\n",
       "      <td>1270.0</td>\n",
       "      <td>9.0</td>\n",
       "      <td>2008.0</td>\n",
       "      <td>0</td>\n",
       "      <td>NaN</td>\n",
       "      <td>NaN</td>\n",
       "      <td>NaN</td>\n",
       "      <td>2015</td>\n",
       "      <td>7</td>\n",
       "      <td>29</td>\n",
       "      <td>0</td>\n",
       "    </tr>\n",
       "    <tr>\n",
       "      <th>3</th>\n",
       "      <td>1</td>\n",
       "      <td>2</td>\n",
       "      <td>2015-07-28</td>\n",
       "      <td>5011</td>\n",
       "      <td>1</td>\n",
       "      <td>0</td>\n",
       "      <td>1</td>\n",
       "      <td>c</td>\n",
       "      <td>a</td>\n",
       "      <td>1270.0</td>\n",
       "      <td>9.0</td>\n",
       "      <td>2008.0</td>\n",
       "      <td>0</td>\n",
       "      <td>NaN</td>\n",
       "      <td>NaN</td>\n",
       "      <td>NaN</td>\n",
       "      <td>2015</td>\n",
       "      <td>7</td>\n",
       "      <td>28</td>\n",
       "      <td>0</td>\n",
       "    </tr>\n",
       "    <tr>\n",
       "      <th>4</th>\n",
       "      <td>1</td>\n",
       "      <td>1</td>\n",
       "      <td>2015-07-27</td>\n",
       "      <td>6102</td>\n",
       "      <td>1</td>\n",
       "      <td>0</td>\n",
       "      <td>1</td>\n",
       "      <td>c</td>\n",
       "      <td>a</td>\n",
       "      <td>1270.0</td>\n",
       "      <td>9.0</td>\n",
       "      <td>2008.0</td>\n",
       "      <td>0</td>\n",
       "      <td>NaN</td>\n",
       "      <td>NaN</td>\n",
       "      <td>NaN</td>\n",
       "      <td>2015</td>\n",
       "      <td>7</td>\n",
       "      <td>27</td>\n",
       "      <td>0</td>\n",
       "    </tr>\n",
       "  </tbody>\n",
       "</table>\n",
       "</div>"
      ],
      "text/plain": [
       "   Store  DayOfWeek       Date  Sales  Promo StateHoliday  SchoolHoliday  \\\n",
       "0      1          5 2015-07-31   5263      1            0              1   \n",
       "1      1          4 2015-07-30   5020      1            0              1   \n",
       "2      1          3 2015-07-29   4782      1            0              1   \n",
       "3      1          2 2015-07-28   5011      1            0              1   \n",
       "4      1          1 2015-07-27   6102      1            0              1   \n",
       "\n",
       "  StoreType Assortment  CompetitionDistance  CompetitionOpenSinceMonth  \\\n",
       "0         c          a               1270.0                        9.0   \n",
       "1         c          a               1270.0                        9.0   \n",
       "2         c          a               1270.0                        9.0   \n",
       "3         c          a               1270.0                        9.0   \n",
       "4         c          a               1270.0                        9.0   \n",
       "\n",
       "   CompetitionOpenSinceYear  Promo2  Promo2SinceWeek  Promo2SinceYear  \\\n",
       "0                    2008.0       0              NaN              NaN   \n",
       "1                    2008.0       0              NaN              NaN   \n",
       "2                    2008.0       0              NaN              NaN   \n",
       "3                    2008.0       0              NaN              NaN   \n",
       "4                    2008.0       0              NaN              NaN   \n",
       "\n",
       "  PromoInterval  CurYear  CurMonth  CurDay  Performance  \n",
       "0           NaN     2015         7      31            0  \n",
       "1           NaN     2015         7      30            0  \n",
       "2           NaN     2015         7      29            0  \n",
       "3           NaN     2015         7      28            0  \n",
       "4           NaN     2015         7      27            0  "
      ]
     },
     "execution_count": 11,
     "metadata": {},
     "output_type": "execute_result"
    }
   ],
   "source": [
    "#Explore StoreTypes\n",
    "store_types = train_df['StoreType'].unique()\n",
    "print(store_types)\n",
    "#Create a DataFrame holding means for each StoreTypes.\n",
    "store_means_df = pd.DataFrame([(train_df[train_df['StoreType'] == s_type].Sales.mean() for s_type in store_types)], \n",
    "                          columns = store_types)\n",
    "print(store_means_df.head())\n",
    "#Create a Series containing our new field Performance.\n",
    "performance_series = pd.Series([1 if(row.Sales >= (store_means_df[row.StoreType]).values[0]) else 0 for index, \n",
    "                                row in train_df.iterrows()])\n",
    "#Add performance Series to our train DataFrame.\n",
    "train_df = train_df.assign(Performance = performance_series.values)\n",
    "print(train_df.info())\n",
    "train_df.head()"
   ]
  },
  {
   "cell_type": "code",
   "execution_count": 12,
   "metadata": {},
   "outputs": [
    {
     "name": "stdout",
     "output_type": "stream",
     "text": [
      "No of rows having zero sales : 54\n"
     ]
    }
   ],
   "source": [
    "#Exploring sales data having sale = 0.\n",
    "print(\"No of rows having zero sales : \" + str(len(train_df[train_df['Sales'] == 0])))"
   ]
  },
  {
   "cell_type": "markdown",
   "metadata": {},
   "source": [
    "<article>\n",
    "<h3  style=\"text-decoration: underline;\">Observation</h3>\n",
    "<ul>\n",
    "<li>There are still sales data which have zero sales. These are not removed as they represent information showing correlation between Current date, Holidays, ShopType and Sales.</li>\n",
    "</ul>\n",
    "</article>"
   ]
  },
  {
   "cell_type": "code",
   "execution_count": 13,
   "metadata": {},
   "outputs": [
    {
     "data": {
      "text/html": [
       "<div>\n",
       "<style>\n",
       "    .dataframe thead tr:only-child th {\n",
       "        text-align: right;\n",
       "    }\n",
       "\n",
       "    .dataframe thead th {\n",
       "        text-align: left;\n",
       "    }\n",
       "\n",
       "    .dataframe tbody tr th {\n",
       "        vertical-align: top;\n",
       "    }\n",
       "</style>\n",
       "<table border=\"1\" class=\"dataframe\">\n",
       "  <thead>\n",
       "    <tr style=\"text-align: right;\">\n",
       "      <th></th>\n",
       "      <th>Store</th>\n",
       "      <th>StoreType</th>\n",
       "      <th>Assortment</th>\n",
       "      <th>CompetitionDistance</th>\n",
       "      <th>CompetitionOpenSinceMonth</th>\n",
       "      <th>CompetitionOpenSinceYear</th>\n",
       "      <th>Promo2</th>\n",
       "      <th>Promo2SinceWeek</th>\n",
       "      <th>Promo2SinceYear</th>\n",
       "      <th>PromoInterval</th>\n",
       "    </tr>\n",
       "  </thead>\n",
       "  <tbody>\n",
       "    <tr>\n",
       "      <th>1</th>\n",
       "      <td>2</td>\n",
       "      <td>a</td>\n",
       "      <td>a</td>\n",
       "      <td>570.0</td>\n",
       "      <td>11.0</td>\n",
       "      <td>2007.0</td>\n",
       "      <td>1</td>\n",
       "      <td>13.0</td>\n",
       "      <td>2010.0</td>\n",
       "      <td>Jan,Apr,Jul,Oct</td>\n",
       "    </tr>\n",
       "    <tr>\n",
       "      <th>2</th>\n",
       "      <td>3</td>\n",
       "      <td>a</td>\n",
       "      <td>a</td>\n",
       "      <td>14130.0</td>\n",
       "      <td>12.0</td>\n",
       "      <td>2006.0</td>\n",
       "      <td>1</td>\n",
       "      <td>14.0</td>\n",
       "      <td>2011.0</td>\n",
       "      <td>Jan,Apr,Jul,Oct</td>\n",
       "    </tr>\n",
       "    <tr>\n",
       "      <th>10</th>\n",
       "      <td>11</td>\n",
       "      <td>a</td>\n",
       "      <td>c</td>\n",
       "      <td>960.0</td>\n",
       "      <td>11.0</td>\n",
       "      <td>2011.0</td>\n",
       "      <td>1</td>\n",
       "      <td>1.0</td>\n",
       "      <td>2012.0</td>\n",
       "      <td>Jan,Apr,Jul,Oct</td>\n",
       "    </tr>\n",
       "    <tr>\n",
       "      <th>11</th>\n",
       "      <td>12</td>\n",
       "      <td>a</td>\n",
       "      <td>c</td>\n",
       "      <td>1070.0</td>\n",
       "      <td>NaN</td>\n",
       "      <td>NaN</td>\n",
       "      <td>1</td>\n",
       "      <td>13.0</td>\n",
       "      <td>2010.0</td>\n",
       "      <td>Jan,Apr,Jul,Oct</td>\n",
       "    </tr>\n",
       "    <tr>\n",
       "      <th>12</th>\n",
       "      <td>13</td>\n",
       "      <td>d</td>\n",
       "      <td>a</td>\n",
       "      <td>310.0</td>\n",
       "      <td>NaN</td>\n",
       "      <td>NaN</td>\n",
       "      <td>1</td>\n",
       "      <td>45.0</td>\n",
       "      <td>2009.0</td>\n",
       "      <td>Feb,May,Aug,Nov</td>\n",
       "    </tr>\n",
       "  </tbody>\n",
       "</table>\n",
       "</div>"
      ],
      "text/plain": [
       "    Store StoreType Assortment  CompetitionDistance  \\\n",
       "1       2         a          a                570.0   \n",
       "2       3         a          a              14130.0   \n",
       "10     11         a          c                960.0   \n",
       "11     12         a          c               1070.0   \n",
       "12     13         d          a                310.0   \n",
       "\n",
       "    CompetitionOpenSinceMonth  CompetitionOpenSinceYear  Promo2  \\\n",
       "1                        11.0                    2007.0       1   \n",
       "2                        12.0                    2006.0       1   \n",
       "10                       11.0                    2011.0       1   \n",
       "11                        NaN                       NaN       1   \n",
       "12                        NaN                       NaN       1   \n",
       "\n",
       "    Promo2SinceWeek  Promo2SinceYear    PromoInterval  \n",
       "1              13.0           2010.0  Jan,Apr,Jul,Oct  \n",
       "2              14.0           2011.0  Jan,Apr,Jul,Oct  \n",
       "10              1.0           2012.0  Jan,Apr,Jul,Oct  \n",
       "11             13.0           2010.0  Jan,Apr,Jul,Oct  \n",
       "12             45.0           2009.0  Feb,May,Aug,Nov  "
      ]
     },
     "execution_count": 13,
     "metadata": {},
     "output_type": "execute_result"
    }
   ],
   "source": [
    "#Explore the stores having promo2 offer.\n",
    "promo2_store_df = store_df[store_df['Promo2'] == 1]\n",
    "promo2_store_df.head()"
   ]
  },
  {
   "cell_type": "markdown",
   "metadata": {},
   "source": [
    "<article>\n",
    "<h3  style=\"text-decoration: underline;\">Observation</h3>\n",
    "<ul>\n",
    "<li>Since Promo2SinceWeek and Promo2SinceYear represent time elapsed since the store started giving promo2, we can combine them into a Promo2Time.</li>\n",
    "<li>We can find the difference between current Date field and promo2 start date to indicate wheather promo2 was active during the sales day. This can be indicated by another field Promo2Active.</li>\n",
    "</ul>\n",
    "</article>"
   ]
  },
  {
   "cell_type": "code",
   "execution_count": 14,
   "metadata": {
    "collapsed": true
   },
   "outputs": [],
   "source": [
    "#Calculate wheather currently the store is having Promo2 or not.\n",
    "\n",
    "def calculate_promo2(months_string, promo2_week, promo2_year, cur_date):\n",
    "    abbr_months = months_string.replace('Sept', 'Sep').split(\",\")\n",
    "    numeric_months = [strptime(mnth, '%b').tm_mon for mnth in abbr_months]\n",
    "    cur_year = cur_date.year\n",
    "    cur_month = cur_date.month\n",
    "    cur_week = cur_date.weekofyear\n",
    "    if((cur_month in numeric_months) and (cur_year > promo2_year or \n",
    "                                          (cur_year == promo2_year and cur_week >= promo2_week))):\n",
    "        return 1\n",
    "    else:\n",
    "        return 0\n",
    "\n",
    "promo_interval_series = [calculate_promo2(row.PromoInterval, row.Promo2SinceWeek, row.Promo2SinceYear, \n",
    "                                                   row.Date) if row.Promo2 == 1 else 0 for index, \n",
    "                         row in train_df.iterrows()]"
   ]
  },
  {
   "cell_type": "code",
   "execution_count": 15,
   "metadata": {},
   "outputs": [
    {
     "name": "stdout",
     "output_type": "stream",
     "text": [
      "<class 'pandas.core.frame.DataFrame'>\n",
      "Int64Index: 844392 entries, 0 to 1017207\n",
      "Data columns (total 19 columns):\n",
      "Store                        844392 non-null int64\n",
      "DayOfWeek                    844392 non-null int64\n",
      "Date                         844392 non-null datetime64[ns]\n",
      "Sales                        844392 non-null int64\n",
      "Promo                        844392 non-null int64\n",
      "StateHoliday                 844392 non-null object\n",
      "SchoolHoliday                844392 non-null int64\n",
      "StoreType                    844392 non-null object\n",
      "Assortment                   844392 non-null object\n",
      "CompetitionDistance          842206 non-null float64\n",
      "CompetitionOpenSinceMonth    575773 non-null float64\n",
      "CompetitionOpenSinceYear     575773 non-null float64\n",
      "Promo2SinceWeek              421085 non-null float64\n",
      "Promo2SinceYear              421085 non-null float64\n",
      "CurYear                      844392 non-null int64\n",
      "CurMonth                     844392 non-null int64\n",
      "CurDay                       844392 non-null int64\n",
      "Performance                  844392 non-null int64\n",
      "Promo2Active                 844392 non-null int64\n",
      "dtypes: datetime64[ns](1), float64(5), int64(10), object(3)\n",
      "memory usage: 128.8+ MB\n",
      "None\n"
     ]
    },
    {
     "data": {
      "text/html": [
       "<div>\n",
       "<style>\n",
       "    .dataframe thead tr:only-child th {\n",
       "        text-align: right;\n",
       "    }\n",
       "\n",
       "    .dataframe thead th {\n",
       "        text-align: left;\n",
       "    }\n",
       "\n",
       "    .dataframe tbody tr th {\n",
       "        vertical-align: top;\n",
       "    }\n",
       "</style>\n",
       "<table border=\"1\" class=\"dataframe\">\n",
       "  <thead>\n",
       "    <tr style=\"text-align: right;\">\n",
       "      <th></th>\n",
       "      <th>Store</th>\n",
       "      <th>DayOfWeek</th>\n",
       "      <th>Date</th>\n",
       "      <th>Sales</th>\n",
       "      <th>Promo</th>\n",
       "      <th>StateHoliday</th>\n",
       "      <th>SchoolHoliday</th>\n",
       "      <th>StoreType</th>\n",
       "      <th>Assortment</th>\n",
       "      <th>CompetitionDistance</th>\n",
       "      <th>CompetitionOpenSinceMonth</th>\n",
       "      <th>CompetitionOpenSinceYear</th>\n",
       "      <th>Promo2SinceWeek</th>\n",
       "      <th>Promo2SinceYear</th>\n",
       "      <th>CurYear</th>\n",
       "      <th>CurMonth</th>\n",
       "      <th>CurDay</th>\n",
       "      <th>Performance</th>\n",
       "      <th>Promo2Active</th>\n",
       "    </tr>\n",
       "  </thead>\n",
       "  <tbody>\n",
       "    <tr>\n",
       "      <th>0</th>\n",
       "      <td>1</td>\n",
       "      <td>5</td>\n",
       "      <td>2015-07-31</td>\n",
       "      <td>5263</td>\n",
       "      <td>1</td>\n",
       "      <td>0</td>\n",
       "      <td>1</td>\n",
       "      <td>c</td>\n",
       "      <td>a</td>\n",
       "      <td>1270.0</td>\n",
       "      <td>9.0</td>\n",
       "      <td>2008.0</td>\n",
       "      <td>NaN</td>\n",
       "      <td>NaN</td>\n",
       "      <td>2015</td>\n",
       "      <td>7</td>\n",
       "      <td>31</td>\n",
       "      <td>0</td>\n",
       "      <td>0</td>\n",
       "    </tr>\n",
       "    <tr>\n",
       "      <th>1</th>\n",
       "      <td>1</td>\n",
       "      <td>4</td>\n",
       "      <td>2015-07-30</td>\n",
       "      <td>5020</td>\n",
       "      <td>1</td>\n",
       "      <td>0</td>\n",
       "      <td>1</td>\n",
       "      <td>c</td>\n",
       "      <td>a</td>\n",
       "      <td>1270.0</td>\n",
       "      <td>9.0</td>\n",
       "      <td>2008.0</td>\n",
       "      <td>NaN</td>\n",
       "      <td>NaN</td>\n",
       "      <td>2015</td>\n",
       "      <td>7</td>\n",
       "      <td>30</td>\n",
       "      <td>0</td>\n",
       "      <td>0</td>\n",
       "    </tr>\n",
       "    <tr>\n",
       "      <th>2</th>\n",
       "      <td>1</td>\n",
       "      <td>3</td>\n",
       "      <td>2015-07-29</td>\n",
       "      <td>4782</td>\n",
       "      <td>1</td>\n",
       "      <td>0</td>\n",
       "      <td>1</td>\n",
       "      <td>c</td>\n",
       "      <td>a</td>\n",
       "      <td>1270.0</td>\n",
       "      <td>9.0</td>\n",
       "      <td>2008.0</td>\n",
       "      <td>NaN</td>\n",
       "      <td>NaN</td>\n",
       "      <td>2015</td>\n",
       "      <td>7</td>\n",
       "      <td>29</td>\n",
       "      <td>0</td>\n",
       "      <td>0</td>\n",
       "    </tr>\n",
       "    <tr>\n",
       "      <th>3</th>\n",
       "      <td>1</td>\n",
       "      <td>2</td>\n",
       "      <td>2015-07-28</td>\n",
       "      <td>5011</td>\n",
       "      <td>1</td>\n",
       "      <td>0</td>\n",
       "      <td>1</td>\n",
       "      <td>c</td>\n",
       "      <td>a</td>\n",
       "      <td>1270.0</td>\n",
       "      <td>9.0</td>\n",
       "      <td>2008.0</td>\n",
       "      <td>NaN</td>\n",
       "      <td>NaN</td>\n",
       "      <td>2015</td>\n",
       "      <td>7</td>\n",
       "      <td>28</td>\n",
       "      <td>0</td>\n",
       "      <td>0</td>\n",
       "    </tr>\n",
       "    <tr>\n",
       "      <th>4</th>\n",
       "      <td>1</td>\n",
       "      <td>1</td>\n",
       "      <td>2015-07-27</td>\n",
       "      <td>6102</td>\n",
       "      <td>1</td>\n",
       "      <td>0</td>\n",
       "      <td>1</td>\n",
       "      <td>c</td>\n",
       "      <td>a</td>\n",
       "      <td>1270.0</td>\n",
       "      <td>9.0</td>\n",
       "      <td>2008.0</td>\n",
       "      <td>NaN</td>\n",
       "      <td>NaN</td>\n",
       "      <td>2015</td>\n",
       "      <td>7</td>\n",
       "      <td>27</td>\n",
       "      <td>0</td>\n",
       "      <td>0</td>\n",
       "    </tr>\n",
       "  </tbody>\n",
       "</table>\n",
       "</div>"
      ],
      "text/plain": [
       "   Store  DayOfWeek       Date  Sales  Promo StateHoliday  SchoolHoliday  \\\n",
       "0      1          5 2015-07-31   5263      1            0              1   \n",
       "1      1          4 2015-07-30   5020      1            0              1   \n",
       "2      1          3 2015-07-29   4782      1            0              1   \n",
       "3      1          2 2015-07-28   5011      1            0              1   \n",
       "4      1          1 2015-07-27   6102      1            0              1   \n",
       "\n",
       "  StoreType Assortment  CompetitionDistance  CompetitionOpenSinceMonth  \\\n",
       "0         c          a               1270.0                        9.0   \n",
       "1         c          a               1270.0                        9.0   \n",
       "2         c          a               1270.0                        9.0   \n",
       "3         c          a               1270.0                        9.0   \n",
       "4         c          a               1270.0                        9.0   \n",
       "\n",
       "   CompetitionOpenSinceYear  Promo2SinceWeek  Promo2SinceYear  CurYear  \\\n",
       "0                    2008.0              NaN              NaN     2015   \n",
       "1                    2008.0              NaN              NaN     2015   \n",
       "2                    2008.0              NaN              NaN     2015   \n",
       "3                    2008.0              NaN              NaN     2015   \n",
       "4                    2008.0              NaN              NaN     2015   \n",
       "\n",
       "   CurMonth  CurDay  Performance  Promo2Active  \n",
       "0         7      31            0             0  \n",
       "1         7      30            0             0  \n",
       "2         7      29            0             0  \n",
       "3         7      28            0             0  \n",
       "4         7      27            0             0  "
      ]
     },
     "execution_count": 15,
     "metadata": {},
     "output_type": "execute_result"
    }
   ],
   "source": [
    "#Create a Series out of the new Promo2Active field.\n",
    "promo_interval_series = pd.Series(promo_interval_series, name='Promo2Active')\n",
    "#Droping Promo2 and PromoInterval fields which are now unneccessary.\n",
    "train_df.drop(['Promo2', 'PromoInterval'], axis = 1, inplace = True)\n",
    "#Adding Promo2Active field to train DataFrame.\n",
    "train_df = train_df.assign(Promo2Active = promo_interval_series.values)\n",
    "print(train_df.info())\n",
    "train_df.head()"
   ]
  },
  {
   "cell_type": "code",
   "execution_count": 16,
   "metadata": {
    "collapsed": true
   },
   "outputs": [],
   "source": [
    "#Explore the max and min values of Promo2SinceWeek field for calculating the new Promo2Time field.\n",
    "#Merging Promo2SinceWeek and Promo2SinceYears\n",
    "def calculate_promo2_time(promo2_week, promo2_year, cur_date):\n",
    "    cur_year = cur_date.year\n",
    "    cur_week = cur_date.weekofyear\n",
    "    promo2_time = 0\n",
    "    if(cur_year > promo2_year):\n",
    "        promo2_time = (52 - promo2_week) + (cur_year - promo2_year - 1)*52 + cur_week\n",
    "    elif(cur_year == promo2_year):\n",
    "        promo2_time = cur_week - promo2_week\n",
    "    else:\n",
    "        #For Check purposes.\n",
    "        promo2_time = -10\n",
    "    return promo2_time\n",
    "\n",
    "promo2_time_series = [calculate_promo2_time(row.Promo2SinceWeek, row.Promo2SinceYear, row.Date) \n",
    "                     if row.Promo2Active == 1 else -1 for index, row in train_df.iterrows()]"
   ]
  },
  {
   "cell_type": "code",
   "execution_count": 17,
   "metadata": {},
   "outputs": [
    {
     "name": "stdout",
     "output_type": "stream",
     "text": [
      "0\n",
      "<class 'pandas.core.frame.DataFrame'>\n",
      "Int64Index: 844392 entries, 0 to 1017207\n",
      "Data columns (total 18 columns):\n",
      "Store                        844392 non-null int64\n",
      "DayOfWeek                    844392 non-null int64\n",
      "Date                         844392 non-null datetime64[ns]\n",
      "Sales                        844392 non-null int64\n",
      "Promo                        844392 non-null int64\n",
      "StateHoliday                 844392 non-null object\n",
      "SchoolHoliday                844392 non-null int64\n",
      "StoreType                    844392 non-null object\n",
      "Assortment                   844392 non-null object\n",
      "CompetitionDistance          842206 non-null float64\n",
      "CompetitionOpenSinceMonth    575773 non-null float64\n",
      "CompetitionOpenSinceYear     575773 non-null float64\n",
      "CurYear                      844392 non-null int64\n",
      "CurMonth                     844392 non-null int64\n",
      "CurDay                       844392 non-null int64\n",
      "Performance                  844392 non-null int64\n",
      "Promo2Active                 844392 non-null int64\n",
      "Promo2Time                   844392 non-null float64\n",
      "dtypes: datetime64[ns](1), float64(4), int64(10), object(3)\n",
      "memory usage: 122.4+ MB\n",
      "None\n"
     ]
    },
    {
     "data": {
      "text/html": [
       "<div>\n",
       "<style>\n",
       "    .dataframe thead tr:only-child th {\n",
       "        text-align: right;\n",
       "    }\n",
       "\n",
       "    .dataframe thead th {\n",
       "        text-align: left;\n",
       "    }\n",
       "\n",
       "    .dataframe tbody tr th {\n",
       "        vertical-align: top;\n",
       "    }\n",
       "</style>\n",
       "<table border=\"1\" class=\"dataframe\">\n",
       "  <thead>\n",
       "    <tr style=\"text-align: right;\">\n",
       "      <th></th>\n",
       "      <th>Store</th>\n",
       "      <th>DayOfWeek</th>\n",
       "      <th>Date</th>\n",
       "      <th>Sales</th>\n",
       "      <th>Promo</th>\n",
       "      <th>StateHoliday</th>\n",
       "      <th>SchoolHoliday</th>\n",
       "      <th>StoreType</th>\n",
       "      <th>Assortment</th>\n",
       "      <th>CompetitionDistance</th>\n",
       "      <th>CompetitionOpenSinceMonth</th>\n",
       "      <th>CompetitionOpenSinceYear</th>\n",
       "      <th>CurYear</th>\n",
       "      <th>CurMonth</th>\n",
       "      <th>CurDay</th>\n",
       "      <th>Performance</th>\n",
       "      <th>Promo2Active</th>\n",
       "      <th>Promo2Time</th>\n",
       "    </tr>\n",
       "  </thead>\n",
       "  <tbody>\n",
       "    <tr>\n",
       "      <th>0</th>\n",
       "      <td>1</td>\n",
       "      <td>5</td>\n",
       "      <td>2015-07-31</td>\n",
       "      <td>5263</td>\n",
       "      <td>1</td>\n",
       "      <td>0</td>\n",
       "      <td>1</td>\n",
       "      <td>c</td>\n",
       "      <td>a</td>\n",
       "      <td>1270.0</td>\n",
       "      <td>9.0</td>\n",
       "      <td>2008.0</td>\n",
       "      <td>2015</td>\n",
       "      <td>7</td>\n",
       "      <td>31</td>\n",
       "      <td>0</td>\n",
       "      <td>0</td>\n",
       "      <td>-1.0</td>\n",
       "    </tr>\n",
       "    <tr>\n",
       "      <th>1</th>\n",
       "      <td>1</td>\n",
       "      <td>4</td>\n",
       "      <td>2015-07-30</td>\n",
       "      <td>5020</td>\n",
       "      <td>1</td>\n",
       "      <td>0</td>\n",
       "      <td>1</td>\n",
       "      <td>c</td>\n",
       "      <td>a</td>\n",
       "      <td>1270.0</td>\n",
       "      <td>9.0</td>\n",
       "      <td>2008.0</td>\n",
       "      <td>2015</td>\n",
       "      <td>7</td>\n",
       "      <td>30</td>\n",
       "      <td>0</td>\n",
       "      <td>0</td>\n",
       "      <td>-1.0</td>\n",
       "    </tr>\n",
       "    <tr>\n",
       "      <th>2</th>\n",
       "      <td>1</td>\n",
       "      <td>3</td>\n",
       "      <td>2015-07-29</td>\n",
       "      <td>4782</td>\n",
       "      <td>1</td>\n",
       "      <td>0</td>\n",
       "      <td>1</td>\n",
       "      <td>c</td>\n",
       "      <td>a</td>\n",
       "      <td>1270.0</td>\n",
       "      <td>9.0</td>\n",
       "      <td>2008.0</td>\n",
       "      <td>2015</td>\n",
       "      <td>7</td>\n",
       "      <td>29</td>\n",
       "      <td>0</td>\n",
       "      <td>0</td>\n",
       "      <td>-1.0</td>\n",
       "    </tr>\n",
       "    <tr>\n",
       "      <th>3</th>\n",
       "      <td>1</td>\n",
       "      <td>2</td>\n",
       "      <td>2015-07-28</td>\n",
       "      <td>5011</td>\n",
       "      <td>1</td>\n",
       "      <td>0</td>\n",
       "      <td>1</td>\n",
       "      <td>c</td>\n",
       "      <td>a</td>\n",
       "      <td>1270.0</td>\n",
       "      <td>9.0</td>\n",
       "      <td>2008.0</td>\n",
       "      <td>2015</td>\n",
       "      <td>7</td>\n",
       "      <td>28</td>\n",
       "      <td>0</td>\n",
       "      <td>0</td>\n",
       "      <td>-1.0</td>\n",
       "    </tr>\n",
       "    <tr>\n",
       "      <th>4</th>\n",
       "      <td>1</td>\n",
       "      <td>1</td>\n",
       "      <td>2015-07-27</td>\n",
       "      <td>6102</td>\n",
       "      <td>1</td>\n",
       "      <td>0</td>\n",
       "      <td>1</td>\n",
       "      <td>c</td>\n",
       "      <td>a</td>\n",
       "      <td>1270.0</td>\n",
       "      <td>9.0</td>\n",
       "      <td>2008.0</td>\n",
       "      <td>2015</td>\n",
       "      <td>7</td>\n",
       "      <td>27</td>\n",
       "      <td>0</td>\n",
       "      <td>0</td>\n",
       "      <td>-1.0</td>\n",
       "    </tr>\n",
       "  </tbody>\n",
       "</table>\n",
       "</div>"
      ],
      "text/plain": [
       "   Store  DayOfWeek       Date  Sales  Promo StateHoliday  SchoolHoliday  \\\n",
       "0      1          5 2015-07-31   5263      1            0              1   \n",
       "1      1          4 2015-07-30   5020      1            0              1   \n",
       "2      1          3 2015-07-29   4782      1            0              1   \n",
       "3      1          2 2015-07-28   5011      1            0              1   \n",
       "4      1          1 2015-07-27   6102      1            0              1   \n",
       "\n",
       "  StoreType Assortment  CompetitionDistance  CompetitionOpenSinceMonth  \\\n",
       "0         c          a               1270.0                        9.0   \n",
       "1         c          a               1270.0                        9.0   \n",
       "2         c          a               1270.0                        9.0   \n",
       "3         c          a               1270.0                        9.0   \n",
       "4         c          a               1270.0                        9.0   \n",
       "\n",
       "   CompetitionOpenSinceYear  CurYear  CurMonth  CurDay  Performance  \\\n",
       "0                    2008.0     2015         7      31            0   \n",
       "1                    2008.0     2015         7      30            0   \n",
       "2                    2008.0     2015         7      29            0   \n",
       "3                    2008.0     2015         7      28            0   \n",
       "4                    2008.0     2015         7      27            0   \n",
       "\n",
       "   Promo2Active  Promo2Time  \n",
       "0             0        -1.0  \n",
       "1             0        -1.0  \n",
       "2             0        -1.0  \n",
       "3             0        -1.0  \n",
       "4             0        -1.0  "
      ]
     },
     "execution_count": 17,
     "metadata": {},
     "output_type": "execute_result"
    }
   ],
   "source": [
    "promo2_time_series = pd.Series(promo2_time_series, name = 'Promo2Time')\n",
    "#Checking if calculated values are correct or not.\n",
    "print(len(promo2_time_series[promo2_time_series < -1]))\n",
    "#Drop Promo2SinceWeek and Promo2SinceYear fields.\n",
    "train_df.drop(['Promo2SinceWeek', 'Promo2SinceYear'], axis = 1, inplace = True)\n",
    "#Add Promo2Time field to train DataFrame.\n",
    "train_df = train_df.assign(Promo2Time = promo2_time_series.values)\n",
    "print(train_df.info())\n",
    "train_df.head()"
   ]
  },
  {
   "cell_type": "code",
   "execution_count": 18,
   "metadata": {},
   "outputs": [
    {
     "data": {
      "text/html": [
       "<div>\n",
       "<style>\n",
       "    .dataframe thead tr:only-child th {\n",
       "        text-align: right;\n",
       "    }\n",
       "\n",
       "    .dataframe thead th {\n",
       "        text-align: left;\n",
       "    }\n",
       "\n",
       "    .dataframe tbody tr th {\n",
       "        vertical-align: top;\n",
       "    }\n",
       "</style>\n",
       "<table border=\"1\" class=\"dataframe\">\n",
       "  <thead>\n",
       "    <tr style=\"text-align: right;\">\n",
       "      <th></th>\n",
       "      <th>CompetitionOpenSinceMonth</th>\n",
       "      <th>CompetitionOpenSinceYear</th>\n",
       "    </tr>\n",
       "  </thead>\n",
       "  <tbody>\n",
       "    <tr>\n",
       "      <th>687</th>\n",
       "      <td>8.0</td>\n",
       "      <td>2015.0</td>\n",
       "    </tr>\n",
       "  </tbody>\n",
       "</table>\n",
       "</div>"
      ],
      "text/plain": [
       "     CompetitionOpenSinceMonth  CompetitionOpenSinceYear\n",
       "687                        8.0                    2015.0"
      ]
     },
     "execution_count": 18,
     "metadata": {},
     "output_type": "execute_result"
    }
   ],
   "source": [
    "#Explore the stores having maximum CompetitionOpenSince timestamp.\n",
    "max_competition_store_df = store_df.sort_values(['CompetitionOpenSinceYear', 'CompetitionOpenSinceMonth'], \n",
    "                                               ascending = [False, False]).head(1)\n",
    "max_competition_store_df.loc[:, ['CompetitionOpenSinceMonth', 'CompetitionOpenSinceYear']]"
   ]
  },
  {
   "cell_type": "code",
   "execution_count": 19,
   "metadata": {},
   "outputs": [
    {
     "name": "stdout",
     "output_type": "stream",
     "text": [
      "Store                        False\n",
      "DayOfWeek                    False\n",
      "Date                         False\n",
      "Sales                        False\n",
      "Promo                        False\n",
      "StateHoliday                 False\n",
      "SchoolHoliday                False\n",
      "StoreType                    False\n",
      "Assortment                   False\n",
      "CompetitionDistance           True\n",
      "CompetitionOpenSinceMonth     True\n",
      "CompetitionOpenSinceYear      True\n",
      "CurYear                      False\n",
      "CurMonth                     False\n",
      "CurDay                       False\n",
      "Performance                  False\n",
      "Promo2Active                 False\n",
      "Promo2Time                   False\n",
      "dtype: bool\n",
      "75860.0\n",
      "20.0\n",
      "2186\n",
      "268619\n",
      "268619\n"
     ]
    }
   ],
   "source": [
    "#Explore the values of CompetitionDistance and CompetitionOpenSince fields.\n",
    "print(train_df.isnull().any())\n",
    "print(train_df['CompetitionDistance'].max())\n",
    "print(train_df['CompetitionDistance'].min())\n",
    "print(len(train_df[train_df['CompetitionDistance'].isnull()]))\n",
    "print(len(train_df[train_df['CompetitionOpenSinceMonth'].isnull()]))\n",
    "print(len(train_df[train_df['CompetitionOpenSinceYear'].isnull()]))"
   ]
  },
  {
   "cell_type": "markdown",
   "metadata": {},
   "source": [
    "<article>\n",
    "<h3  style=\"text-decoration: underline;\">Observation</h3>\n",
    "<ul>\n",
    "<li>CompetitionOpenSince fields can be used to infer wheather there was competition on the day of the sales.</li>\n",
    "<li>A large no of rows doesn't have CompetitionOpenSince field. Since Wheather there was Competition or not is an important feature, we can drop the rows that doesn't have these fields.</li>\n",
    "<li>Also CompetitionDistance is missing for some rows, these are relatively small and can inferred as no competition or large competition distance. In both case these values are filled by a large distance value of 10000.</li>\n",
    "</ul>\n",
    "</article>"
   ]
  },
  {
   "cell_type": "code",
   "execution_count": 20,
   "metadata": {
    "collapsed": true
   },
   "outputs": [],
   "source": [
    "#Filling the missing CompetitionDistance with large values.\n",
    "train_df['CompetitionDistance'].fillna(10000, inplace = True)\n",
    "#Dropping the rows not having a CompetitionOpenSince field.\n",
    "train_df.dropna(inplace = True)"
   ]
  },
  {
   "cell_type": "code",
   "execution_count": 21,
   "metadata": {
    "collapsed": true
   },
   "outputs": [],
   "source": [
    "#Calculating wheather competition was active on each sales day and merging it with competition distance.\n",
    "def calculate_competition(comp_dist, comp_year, comp_month, cur_date):\n",
    "    cur_year = cur_date.year\n",
    "    cur_month = cur_date.month\n",
    "    if(cur_year > comp_year or (cur_year == comp_year and cur_month >= comp_month)):\n",
    "        return comp_dist\n",
    "    else:\n",
    "        return 10000\n",
    "\n",
    "competition_active_series = [calculate_competition(row.CompetitionDistance, row.CompetitionOpenSinceYear,\n",
    "                                                   row.CompetitionOpenSinceMonth, row.Date) for index, row in \n",
    "                             train_df.iterrows()]"
   ]
  },
  {
   "cell_type": "code",
   "execution_count": 22,
   "metadata": {},
   "outputs": [
    {
     "name": "stdout",
     "output_type": "stream",
     "text": [
      "<class 'pandas.core.frame.DataFrame'>\n",
      "Int64Index: 575773 entries, 0 to 1014381\n",
      "Data columns (total 16 columns):\n",
      "Store                  575773 non-null int64\n",
      "DayOfWeek              575773 non-null int64\n",
      "Date                   575773 non-null datetime64[ns]\n",
      "Sales                  575773 non-null int64\n",
      "Promo                  575773 non-null int64\n",
      "StateHoliday           575773 non-null object\n",
      "SchoolHoliday          575773 non-null int64\n",
      "StoreType              575773 non-null object\n",
      "Assortment             575773 non-null object\n",
      "CurYear                575773 non-null int64\n",
      "CurMonth               575773 non-null int64\n",
      "CurDay                 575773 non-null int64\n",
      "Performance            575773 non-null int64\n",
      "Promo2Active           575773 non-null int64\n",
      "Promo2Time             575773 non-null float64\n",
      "CompetitionDistance    575773 non-null float64\n",
      "dtypes: datetime64[ns](1), float64(2), int64(10), object(3)\n",
      "memory usage: 74.7+ MB\n",
      "None\n",
      "Store                  False\n",
      "DayOfWeek              False\n",
      "Date                   False\n",
      "Sales                  False\n",
      "Promo                  False\n",
      "StateHoliday           False\n",
      "SchoolHoliday          False\n",
      "StoreType              False\n",
      "Assortment             False\n",
      "CurYear                False\n",
      "CurMonth               False\n",
      "CurDay                 False\n",
      "Performance            False\n",
      "Promo2Active           False\n",
      "Promo2Time             False\n",
      "CompetitionDistance    False\n",
      "dtype: bool\n"
     ]
    }
   ],
   "source": [
    "competition_active_series = pd.Series(competition_active_series, name = 'CompetitonDistance')\n",
    "#Dropping CompetitionDistance and CompetitionOpenSince fields.\n",
    "train_df.drop(['CompetitionDistance', 'CompetitionOpenSinceMonth', 'CompetitionOpenSinceYear'], axis = 1, \n",
    "              inplace = True)\n",
    "#Adding our new CompetitionDistance field to train DataFrame.\n",
    "train_df = train_df.assign(CompetitionDistance = competition_active_series.values)\n",
    "print(train_df.info())\n",
    "print(train_df.isnull().any())"
   ]
  },
  {
   "cell_type": "code",
   "execution_count": 23,
   "metadata": {
    "collapsed": true
   },
   "outputs": [],
   "source": [
    "#Dropping Date and Sales fields.\n",
    "train_df.drop(['Date', 'Sales'], axis = 1, inplace = True)"
   ]
  },
  {
   "cell_type": "code",
   "execution_count": 24,
   "metadata": {},
   "outputs": [
    {
     "name": "stdout",
     "output_type": "stream",
     "text": [
      "<class 'pandas.core.frame.DataFrame'>\n",
      "Int64Index: 575773 entries, 0 to 1014381\n",
      "Data columns (total 14 columns):\n",
      "Store                  575773 non-null int64\n",
      "DayOfWeek              575773 non-null int64\n",
      "Promo                  575773 non-null int64\n",
      "StateHoliday           575773 non-null object\n",
      "SchoolHoliday          575773 non-null int64\n",
      "StoreType              575773 non-null object\n",
      "Assortment             575773 non-null object\n",
      "CurYear                575773 non-null int64\n",
      "CurMonth               575773 non-null int64\n",
      "CurDay                 575773 non-null int64\n",
      "Performance            575773 non-null int64\n",
      "Promo2Active           575773 non-null int64\n",
      "Promo2Time             575773 non-null float64\n",
      "CompetitionDistance    575773 non-null float64\n",
      "dtypes: float64(2), int64(9), object(3)\n",
      "memory usage: 65.9+ MB\n",
      "None\n",
      "Store                  False\n",
      "DayOfWeek              False\n",
      "Promo                  False\n",
      "StateHoliday           False\n",
      "SchoolHoliday          False\n",
      "StoreType              False\n",
      "Assortment             False\n",
      "CurYear                False\n",
      "CurMonth               False\n",
      "CurDay                 False\n",
      "Performance            False\n",
      "Promo2Active           False\n",
      "Promo2Time             False\n",
      "CompetitionDistance    False\n",
      "dtype: bool\n"
     ]
    }
   ],
   "source": [
    "print(train_df.info())\n",
    "print(train_df.isnull().any())"
   ]
  },
  {
   "cell_type": "markdown",
   "metadata": {},
   "source": [
    "<article>\n",
    "<h3  style=\"text-decoration: underline;\">Observation</h3>\n",
    "<ul>\n",
    "<li>Some of the fields have a datatype of 'Object'. This cannot be used for classification and should be converted to numeric types</li>\n",
    "<li>We use sklearn's Label Encoder for this purpose </li>\n",
    "</ul>\n",
    "</article>"
   ]
  },
  {
   "cell_type": "code",
   "execution_count": 25,
   "metadata": {},
   "outputs": [
    {
     "name": "stdout",
     "output_type": "stream",
     "text": [
      "['0' 0 'a' 'b' 'c']\n",
      "[0 1 2 3]\n",
      "['c' 'a' 'd' 'b']\n",
      "[2 0 3 1]\n",
      "['a' 'c' 'b']\n",
      "[0 2 1]\n"
     ]
    }
   ],
   "source": [
    "#Convert Object types in train DataFrame to Numeric\n",
    "print(train_df['StateHoliday'].unique())\n",
    "enc = LabelEncoder()\n",
    "train_df['StateHoliday'] = enc.fit_transform(train_df['StateHoliday'].astype(str))\n",
    "print(train_df['StateHoliday'].unique())\n",
    "\n",
    "print(train_df['StoreType'].unique())\n",
    "enc = LabelEncoder()\n",
    "train_df['StoreType'] = enc.fit_transform(train_df['StoreType'].astype(str))\n",
    "print(train_df['StoreType'].unique())\n",
    "\n",
    "print(train_df['Assortment'].unique())\n",
    "enc = LabelEncoder()\n",
    "train_df['Assortment'] = enc.fit_transform(train_df['Assortment'].astype(str))\n",
    "print(train_df['Assortment'].unique())"
   ]
  },
  {
   "cell_type": "code",
   "execution_count": 26,
   "metadata": {},
   "outputs": [
    {
     "name": "stdout",
     "output_type": "stream",
     "text": [
      "0\n"
     ]
    }
   ],
   "source": [
    "#Checking if the final features contain any constants.\n",
    "print(np.sum(train_df.var() == 0))"
   ]
  },
  {
   "cell_type": "code",
   "execution_count": 27,
   "metadata": {
    "collapsed": true
   },
   "outputs": [],
   "source": [
    "#Split Training Data into test and train\n",
    "train, test = train_test_split(train_df, test_size=0.2)"
   ]
  },
  {
   "cell_type": "code",
   "execution_count": 28,
   "metadata": {},
   "outputs": [
    {
     "name": "stdout",
     "output_type": "stream",
     "text": [
      "<class 'pandas.core.frame.DataFrame'>\n",
      "Int64Index: 460618 entries, 747770 to 28515\n",
      "Data columns (total 13 columns):\n",
      "Store                  460618 non-null int64\n",
      "DayOfWeek              460618 non-null int64\n",
      "Promo                  460618 non-null int64\n",
      "StateHoliday           460618 non-null int64\n",
      "SchoolHoliday          460618 non-null int64\n",
      "StoreType              460618 non-null int64\n",
      "Assortment             460618 non-null int64\n",
      "CurYear                460618 non-null int64\n",
      "CurMonth               460618 non-null int64\n",
      "CurDay                 460618 non-null int64\n",
      "Promo2Active           460618 non-null int64\n",
      "Promo2Time             460618 non-null float64\n",
      "CompetitionDistance    460618 non-null float64\n",
      "dtypes: float64(2), int64(11)\n",
      "memory usage: 49.2 MB\n",
      "None\n",
      "747770    0\n",
      "192145    0\n",
      "822480    1\n",
      "589623    0\n",
      "462574    1\n",
      "Name: Performance, dtype: int64\n",
      "<class 'pandas.core.frame.DataFrame'>\n",
      "Int64Index: 115155 entries, 481789 to 153939\n",
      "Data columns (total 13 columns):\n",
      "Store                  115155 non-null int64\n",
      "DayOfWeek              115155 non-null int64\n",
      "Promo                  115155 non-null int64\n",
      "StateHoliday           115155 non-null int64\n",
      "SchoolHoliday          115155 non-null int64\n",
      "StoreType              115155 non-null int64\n",
      "Assortment             115155 non-null int64\n",
      "CurYear                115155 non-null int64\n",
      "CurMonth               115155 non-null int64\n",
      "CurDay                 115155 non-null int64\n",
      "Promo2Active           115155 non-null int64\n",
      "Promo2Time             115155 non-null float64\n",
      "CompetitionDistance    115155 non-null float64\n",
      "dtypes: float64(2), int64(11)\n",
      "memory usage: 12.3 MB\n",
      "None\n",
      "481789    1\n",
      "920631    1\n",
      "283362    1\n",
      "472958    0\n",
      "985760    0\n",
      "Name: Performance, dtype: int64\n"
     ]
    }
   ],
   "source": [
    "#Split the DataFrames into train/test Features and train/test Labels for Classification.\n",
    "train_features = train.drop('Performance', axis = 1)\n",
    "train_labels = train['Performance']\n",
    "print(train_features.info())\n",
    "print(train_labels.head())\n",
    "test_features = test.drop('Performance', axis = 1)\n",
    "test_labels = test['Performance']\n",
    "print(test_features.info())\n",
    "print(test_labels.head())"
   ]
  },
  {
   "cell_type": "code",
   "execution_count": 29,
   "metadata": {},
   "outputs": [
    {
     "data": {
      "text/plain": [
       "RandomForestClassifier(bootstrap=True, class_weight=None, criterion='gini',\n",
       "            max_depth=None, max_features='auto', max_leaf_nodes=None,\n",
       "            min_impurity_decrease=0.0, min_impurity_split=None,\n",
       "            min_samples_leaf=1, min_samples_split=2,\n",
       "            min_weight_fraction_leaf=0.0, n_estimators=10, n_jobs=2,\n",
       "            oob_score=False, random_state=0, verbose=0, warm_start=False)"
      ]
     },
     "execution_count": 29,
     "metadata": {},
     "output_type": "execute_result"
    }
   ],
   "source": [
    "#Create a RandomForestClassifier and train it.\n",
    "rand_clf = RandomForestClassifier(n_jobs = 2, random_state = 0)\n",
    "rand_clf.fit(train_features, train_labels)"
   ]
  },
  {
   "cell_type": "code",
   "execution_count": 30,
   "metadata": {},
   "outputs": [
    {
     "name": "stdout",
     "output_type": "stream",
     "text": [
      "0.851270027354\n"
     ]
    }
   ],
   "source": [
    "#Score of the RandomForestClassifier\n",
    "rand_score = rand_clf.score(test_features, test_labels)\n",
    "print(rand_score)"
   ]
  },
  {
   "cell_type": "markdown",
   "metadata": {},
   "source": [
    "<article>\n",
    "<h3  style=\"text-decoration: underline;\">Observation</h3>\n",
    "<ul>\n",
    "<li>RandomForestClassifier recorded an accuracy of 84.45%</li>\n",
    "</ul>\n",
    "</article>"
   ]
  },
  {
   "cell_type": "code",
   "execution_count": 31,
   "metadata": {},
   "outputs": [
    {
     "name": "stdout",
     "output_type": "stream",
     "text": [
      "Predicted   0.0   1.0    All\n",
      "Actual                      \n",
      "0.0        5409  3275   8684\n",
      "1.0        3678  2288   5966\n",
      "All        9087  5563  14650\n"
     ]
    }
   ],
   "source": [
    "#Calculating the Confusion Matrix.\n",
    "predicted_labels = rand_clf.predict(test_features)\n",
    "test_labels_series = test_labels.rename(\"Actual\")\n",
    "predicted_labels_series = pd.Series(predicted_labels, name = \"Predicted\")\n",
    "cnf_matrix = pd.crosstab(test_labels_series, predicted_labels_series, margins = True)\n",
    "print(cnf_matrix)"
   ]
  },
  {
   "cell_type": "code",
   "execution_count": 33,
   "metadata": {},
   "outputs": [
    {
     "name": "stdout",
     "output_type": "stream",
     "text": [
      "Predicted       0.0       1.0\n",
      "Actual                       \n",
      "0.0        0.622870  0.548944\n",
      "1.0        0.423538  0.383507\n"
     ]
    }
   ],
   "source": [
    "#Calculating the normalized Confusion Matrix.\n",
    "cnf_matrix = pd.crosstab(test_labels_series, predicted_labels_series)\n",
    "cnf_matrix_normalized = cnf_matrix / cnf_matrix.sum(axis = 1)\n",
    "print(cnf_matrix_normalized)"
   ]
  },
  {
   "cell_type": "code",
   "execution_count": 34,
   "metadata": {},
   "outputs": [
    {
     "data": {
      "text/plain": [
       "<matplotlib.axes._subplots.AxesSubplot at 0x7f4d91f470f0>"
      ]
     },
     "execution_count": 34,
     "metadata": {},
     "output_type": "execute_result"
    },
    {
     "data": {
      "image/png": "[encoded data removed]",
      "text/plain": [
       "<matplotlib.figure.Figure at 0x7f4d8c46b0b8>"
      ]
     },
     "metadata": {},
     "output_type": "display_data"
    }
   ],
   "source": [
    "#Plotting Confusion Matrices.\n",
    "sns.heatmap(cnf_matrix, annot = True)"
   ]
  },
  {
   "cell_type": "code",
   "execution_count": 35,
   "metadata": {},
   "outputs": [
    {
     "data": {
      "text/plain": [
       "<matplotlib.axes._subplots.AxesSubplot at 0x7f4d7457fc50>"
      ]
     },
     "execution_count": 35,
     "metadata": {},
     "output_type": "execute_result"
    },
    {
     "data": {
      "image/png": "[encoded data removed]",
      "text/plain": [
       "<matplotlib.figure.Figure at 0x7f4d7456b0b8>"
      ]
     },
     "metadata": {},
     "output_type": "display_data"
    }
   ],
   "source": [
    "sns.heatmap(cnf_matrix_normalized, annot = True)"
   ]
  },
  {
   "cell_type": "code",
   "execution_count": 36,
   "metadata": {},
   "outputs": [
    {
     "data": {
      "text/plain": [
       "<matplotlib.axes._subplots.AxesSubplot at 0x7f4d7a11a860>"
      ]
     },
     "execution_count": 36,
     "metadata": {},
     "output_type": "execute_result"
    },
    {
     "data": {
      "image/png": "[encoded data removed]",
      "text/plain": [
       "<matplotlib.figure.Figure at 0x7f4d7a0eb0f0>"
      ]
     },
     "metadata": {},
     "output_type": "display_data"
    }
   ],
   "source": [
    "#Calculating Feature Importance.\n",
    "feature_imp_dict = {}\n",
    "for feature, importance in zip(train_features.columns, rand_clf.feature_importances_):\n",
    "    feature_imp_dict[feature] = importance\n",
    "feature_imp_df = pd.DataFrame.from_dict(feature_imp_dict, orient='index').rename(columns={0: 'Gini-importance'})\n",
    "feature_imp_df.sort_values(by='Gini-importance').plot(kind='bar', rot=45, figsize = (10,3))"
   ]
  },
  {
   "cell_type": "code",
   "execution_count": 40,
   "metadata": {},
   "outputs": [
    {
     "name": "stdout",
     "output_type": "stream",
     "text": [
      "259097\n",
      "316676\n"
     ]
    }
   ],
   "source": [
    "#Splitting the entire data in 45:55 ratio(training: 260000, testing: 310000)\n",
    "train, test = train_test_split(train_df, test_size=0.55)\n",
    "print(len(train))\n",
    "print(len(test))"
   ]
  },
  {
   "cell_type": "code",
   "execution_count": 41,
   "metadata": {},
   "outputs": [
    {
     "name": "stdout",
     "output_type": "stream",
     "text": [
      "<class 'pandas.core.frame.DataFrame'>\n",
      "Int64Index: 259097 entries, 305481 to 676022\n",
      "Data columns (total 13 columns):\n",
      "Store                  259097 non-null int64\n",
      "DayOfWeek              259097 non-null int64\n",
      "Promo                  259097 non-null int64\n",
      "StateHoliday           259097 non-null int64\n",
      "SchoolHoliday          259097 non-null int64\n",
      "StoreType              259097 non-null int64\n",
      "Assortment             259097 non-null int64\n",
      "CurYear                259097 non-null int64\n",
      "CurMonth               259097 non-null int64\n",
      "CurDay                 259097 non-null int64\n",
      "Promo2Active           259097 non-null int64\n",
      "Promo2Time             259097 non-null float64\n",
      "CompetitionDistance    259097 non-null float64\n",
      "dtypes: float64(2), int64(11)\n",
      "memory usage: 27.7 MB\n",
      "None\n",
      "305481    1\n",
      "336973    0\n",
      "468596    0\n",
      "385922    1\n",
      "807046    1\n",
      "Name: Performance, dtype: int64\n",
      "<class 'pandas.core.frame.DataFrame'>\n",
      "Int64Index: 316676 entries, 940634 to 87314\n",
      "Data columns (total 13 columns):\n",
      "Store                  316676 non-null int64\n",
      "DayOfWeek              316676 non-null int64\n",
      "Promo                  316676 non-null int64\n",
      "StateHoliday           316676 non-null int64\n",
      "SchoolHoliday          316676 non-null int64\n",
      "StoreType              316676 non-null int64\n",
      "Assortment             316676 non-null int64\n",
      "CurYear                316676 non-null int64\n",
      "CurMonth               316676 non-null int64\n",
      "CurDay                 316676 non-null int64\n",
      "Promo2Active           316676 non-null int64\n",
      "Promo2Time             316676 non-null float64\n",
      "CompetitionDistance    316676 non-null float64\n",
      "dtypes: float64(2), int64(11)\n",
      "memory usage: 33.8 MB\n",
      "None\n",
      "940634    1\n",
      "716625    1\n",
      "419976    0\n",
      "145810    0\n",
      "41536     0\n",
      "Name: Performance, dtype: int64\n"
     ]
    }
   ],
   "source": [
    "#Split the DataFrames into train/test Features and train/test Labels for Classification.\n",
    "train_features = train.drop('Performance', axis = 1)\n",
    "train_labels = train['Performance']\n",
    "print(train_features.info())\n",
    "print(train_labels.head())\n",
    "test_features = test.drop('Performance', axis = 1)\n",
    "test_labels = test['Performance']\n",
    "print(test_features.info())\n",
    "print(test_labels.head())"
   ]
  },
  {
   "cell_type": "code",
   "execution_count": 42,
   "metadata": {},
   "outputs": [
    {
     "name": "stdout",
     "output_type": "stream",
     "text": [
      "0.830947087875\n"
     ]
    }
   ],
   "source": [
    "#Create the RandomForestClassifier and train.\n",
    "rand_clf = RandomForestClassifier(n_jobs = 2, random_state = 0)\n",
    "rand_clf.fit(train_features, train_labels)\n",
    "#Score of the RandomForestClassifier\n",
    "rand_score2 = rand_clf.score(test_features, test_labels)\n",
    "print(rand_score2)"
   ]
  },
  {
   "cell_type": "code",
   "execution_count": 43,
   "metadata": {},
   "outputs": [
    {
     "name": "stdout",
     "output_type": "stream",
     "text": [
      "0.848248683197\n"
     ]
    }
   ],
   "source": [
    "#Random Forest with increased no of trees.\n",
    "rand_clf = RandomForestClassifier(n_estimators = 20, n_jobs = 2, random_state = 0)\n",
    "rand_clf.fit(train_features, train_labels)\n",
    "#Score of the RandomForestClassifier\n",
    "rand_score3 = rand_clf.score(test_features, test_labels)\n",
    "print(rand_score3)"
   ]
  },
  {
   "cell_type": "code",
   "execution_count": 44,
   "metadata": {},
   "outputs": [
    {
     "name": "stdout",
     "output_type": "stream",
     "text": [
      "[ 0.5830142   0.64391472  0.63503105  0.65760634  0.61745141]\n",
      "Mean Score: 0.627404, 95% Confidence Interval: [0.575926,0.678881]\n"
     ]
    }
   ],
   "source": [
    "#Do a Simple 5-Fold Cross Validation without Shuffle.\n",
    "rand_clf = RandomForestClassifier(n_estimators = 20, n_jobs = 2, random_state = 0)\n",
    "data_features = train_df.drop('Performance', axis = 1)\n",
    "data_labels = train_df['Performance']\n",
    "cv_scores = cross_val_score(rand_clf, data_features, data_labels, cv = 5)\n",
    "print(cv_scores)\n",
    "mean_cv_score = cv_scores.mean()\n",
    "cv_scores_std = cv_scores.std()\n",
    "print(\"Mean Score: %f, 95%% Confidence Interval: [%f,%f]\" %(mean_cv_score, mean_cv_score - (cv_scores_std * 2),\n",
    "                                                          mean_cv_score + (cv_scores_std * 2)))"
   ]
  },
  {
   "cell_type": "code",
   "execution_count": 45,
   "metadata": {},
   "outputs": [
    {
     "name": "stdout",
     "output_type": "stream",
     "text": [
      "[ 0.64609747  0.63569419  0.64055716  0.61653091  0.62526703  0.68537784\n",
      "  0.67863904  0.67170919  0.64944335  0.57434392]\n",
      "Mean Score: 0.642366, 95% Confidence Interval: [0.579995,0.704737]\n"
     ]
    }
   ],
   "source": [
    "#Do a Simple 10-Fold Cross Validation.\n",
    "rand_clf = RandomForestClassifier(n_estimators = 20, n_jobs = 2, random_state = 0)\n",
    "cv_scores = cross_val_score(rand_clf, data_features, data_labels, cv = 10)\n",
    "print(cv_scores)\n",
    "mean_cv_score = cv_scores.mean()\n",
    "cv_scores_std = cv_scores.std()\n",
    "print(\"Mean Score: %f, 95%% Confidence Interval: [%f,%f]\" %(mean_cv_score, mean_cv_score - (cv_scores_std * 2),\n",
    "                                                          mean_cv_score + (cv_scores_std * 2)))"
   ]
  },
  {
   "cell_type": "code",
   "execution_count": 46,
   "metadata": {},
   "outputs": [
    {
     "name": "stdout",
     "output_type": "stream",
     "text": [
      "[ 0.84291753  0.84495305  0.8501148   0.85100404  0.84856558]\n",
      "Mean Score: 0.847511, 95% Confidence Interval: [0.841331,0.853691]\n"
     ]
    }
   ],
   "source": [
    "#Do a Shuffled 5-Fold Cross Validation.\n",
    "rand_clf = RandomForestClassifier(n_estimators = 20, n_jobs = 2, random_state = 0)\n",
    "cv = ShuffleSplit(n_splits = 5, test_size = 0.5, random_state = 0)\n",
    "cv_scores = cross_val_score(rand_clf, data_features, data_labels, cv = cv)\n",
    "print(cv_scores)\n",
    "mean_cv_score = cv_scores.mean()\n",
    "cv_scores_std = cv_scores.std()\n",
    "print(\"Mean Score: %f, 95%% Confidence Interval: [%f,%f]\" %(mean_cv_score, mean_cv_score - (cv_scores_std * 2),\n",
    "                                                          mean_cv_score + (cv_scores_std * 2)))"
   ]
  },
  {
   "cell_type": "code",
   "execution_count": 48,
   "metadata": {},
   "outputs": [
    {
     "name": "stdout",
     "output_type": "stream",
     "text": [
      "[ 0.84291753  0.84495305  0.8501148   0.85100404  0.84856558  0.84596387\n",
      "  0.85609284  0.84619312  0.84750267  0.84608544]\n",
      "Mean Score: 0.847939, 95% Confidence Interval: [0.840848,0.855030]\n"
     ]
    }
   ],
   "source": [
    "#Do a Shuffled 10-Fold Cross Validation.\n",
    "rand_clf = RandomForestClassifier(n_estimators = 20, n_jobs = 2, random_state = 0)\n",
    "cv = ShuffleSplit(n_splits = 10, test_size = 0.5, random_state = 0)\n",
    "cv_scores = cross_val_score(rand_clf, data_features, data_labels, cv = cv)\n",
    "print(cv_scores)\n",
    "mean_cv_score = cv_scores.mean()\n",
    "cv_scores_std = cv_scores.std()\n",
    "print(\"Mean Score: %f, 95%% Confidence Interval: [%f,%f]\" %(mean_cv_score, mean_cv_score - (cv_scores_std * 2),\n",
    "                                                          mean_cv_score + (cv_scores_std * 2)))"
   ]
  },
  {
   "cell_type": "code",
   "execution_count": 49,
   "metadata": {},
   "outputs": [
    {
     "ename": "KeyboardInterrupt",
     "evalue": "",
     "output_type": "error",
     "traceback": [
      "\u001b[0;31m---------------------------------------------------------------------------\u001b[0m",
      "\u001b[0;31mKeyboardInterrupt\u001b[0m                         Traceback (most recent call last)",
      "\u001b[0;32m<ipython-input-49-d66ea0d16901>\u001b[0m in \u001b[0;36m<module>\u001b[0;34m()\u001b[0m\n\u001b[1;32m      5\u001b[0m ]\n\u001b[1;32m      6\u001b[0m \u001b[0msvc_grid_clf\u001b[0m \u001b[0;34m=\u001b[0m \u001b[0mGridSearchCV\u001b[0m\u001b[0;34m(\u001b[0m\u001b[0mestimator\u001b[0m \u001b[0;34m=\u001b[0m \u001b[0mSVC\u001b[0m\u001b[0;34m(\u001b[0m\u001b[0;34m)\u001b[0m\u001b[0;34m,\u001b[0m \u001b[0mparam_grid\u001b[0m \u001b[0;34m=\u001b[0m \u001b[0mparameter_candidates\u001b[0m\u001b[0;34m,\u001b[0m \u001b[0mn_jobs\u001b[0m \u001b[0;34m=\u001b[0m \u001b[0;36m2\u001b[0m\u001b[0;34m)\u001b[0m\u001b[0;34m\u001b[0m\u001b[0m\n\u001b[0;32m----> 7\u001b[0;31m \u001b[0msvc_grid_clf\u001b[0m\u001b[0;34m.\u001b[0m\u001b[0mfit\u001b[0m\u001b[0;34m(\u001b[0m\u001b[0mtrain_features\u001b[0m\u001b[0;34m,\u001b[0m \u001b[0mtrain_labels\u001b[0m\u001b[0;34m)\u001b[0m\u001b[0;34m\u001b[0m\u001b[0m\n\u001b[0m",
      "\u001b[0;32m/usr/lib/python3.6/site-packages/sklearn/grid_search.py\u001b[0m in \u001b[0;36mfit\u001b[0;34m(self, X, y)\u001b[0m\n\u001b[1;32m    836\u001b[0m \u001b[0;34m\u001b[0m\u001b[0m\n\u001b[1;32m    837\u001b[0m         \"\"\"\n\u001b[0;32m--> 838\u001b[0;31m         \u001b[0;32mreturn\u001b[0m \u001b[0mself\u001b[0m\u001b[0;34m.\u001b[0m\u001b[0m_fit\u001b[0m\u001b[0;34m(\u001b[0m\u001b[0mX\u001b[0m\u001b[0;34m,\u001b[0m \u001b[0my\u001b[0m\u001b[0;34m,\u001b[0m \u001b[0mParameterGrid\u001b[0m\u001b[0;34m(\u001b[0m\u001b[0mself\u001b[0m\u001b[0;34m.\u001b[0m\u001b[0mparam_grid\u001b[0m\u001b[0;34m)\u001b[0m\u001b[0;34m)\u001b[0m\u001b[0;34m\u001b[0m\u001b[0m\n\u001b[0m\u001b[1;32m    839\u001b[0m \u001b[0;34m\u001b[0m\u001b[0m\n\u001b[1;32m    840\u001b[0m \u001b[0;34m\u001b[0m\u001b[0m\n",
      "\u001b[0;32m/usr/lib/python3.6/site-packages/sklearn/grid_search.py\u001b[0m in \u001b[0;36m_fit\u001b[0;34m(self, X, y, parameter_iterable)\u001b[0m\n\u001b[1;32m    572\u001b[0m                                     \u001b[0mself\u001b[0m\u001b[0;34m.\u001b[0m\u001b[0mfit_params\u001b[0m\u001b[0;34m,\u001b[0m \u001b[0mreturn_parameters\u001b[0m\u001b[0;34m=\u001b[0m\u001b[0;32mTrue\u001b[0m\u001b[0;34m,\u001b[0m\u001b[0;34m\u001b[0m\u001b[0m\n\u001b[1;32m    573\u001b[0m                                     error_score=self.error_score)\n\u001b[0;32m--> 574\u001b[0;31m                 \u001b[0;32mfor\u001b[0m \u001b[0mparameters\u001b[0m \u001b[0;32min\u001b[0m \u001b[0mparameter_iterable\u001b[0m\u001b[0;34m\u001b[0m\u001b[0m\n\u001b[0m\u001b[1;32m    575\u001b[0m                 for train, test in cv)\n\u001b[1;32m    576\u001b[0m \u001b[0;34m\u001b[0m\u001b[0m\n",
      "\u001b[0;32m/usr/lib/python3.6/site-packages/sklearn/externals/joblib/parallel.py\u001b[0m in \u001b[0;36m__call__\u001b[0;34m(self, iterable)\u001b[0m\n\u001b[1;32m    787\u001b[0m                 \u001b[0;31m# consumption.\u001b[0m\u001b[0;34m\u001b[0m\u001b[0;34m\u001b[0m\u001b[0m\n\u001b[1;32m    788\u001b[0m                 \u001b[0mself\u001b[0m\u001b[0;34m.\u001b[0m\u001b[0m_iterating\u001b[0m \u001b[0;34m=\u001b[0m \u001b[0;32mFalse\u001b[0m\u001b[0;34m\u001b[0m\u001b[0m\n\u001b[0;32m--> 789\u001b[0;31m             \u001b[0mself\u001b[0m\u001b[0;34m.\u001b[0m\u001b[0mretrieve\u001b[0m\u001b[0;34m(\u001b[0m\u001b[0;34m)\u001b[0m\u001b[0;34m\u001b[0m\u001b[0m\n\u001b[0m\u001b[1;32m    790\u001b[0m             \u001b[0;31m# Make sure that we get a last message telling us we are done\u001b[0m\u001b[0;34m\u001b[0m\u001b[0;34m\u001b[0m\u001b[0m\n\u001b[1;32m    791\u001b[0m             \u001b[0melapsed_time\u001b[0m \u001b[0;34m=\u001b[0m \u001b[0mtime\u001b[0m\u001b[0;34m.\u001b[0m\u001b[0mtime\u001b[0m\u001b[0;34m(\u001b[0m\u001b[0;34m)\u001b[0m \u001b[0;34m-\u001b[0m \u001b[0mself\u001b[0m\u001b[0;34m.\u001b[0m\u001b[0m_start_time\u001b[0m\u001b[0;34m\u001b[0m\u001b[0m\n",
      "\u001b[0;32m/usr/lib/python3.6/site-packages/sklearn/externals/joblib/parallel.py\u001b[0m in \u001b[0;36mretrieve\u001b[0;34m(self)\u001b[0m\n\u001b[1;32m    697\u001b[0m             \u001b[0;32mtry\u001b[0m\u001b[0;34m:\u001b[0m\u001b[0;34m\u001b[0m\u001b[0m\n\u001b[1;32m    698\u001b[0m                 \u001b[0;32mif\u001b[0m \u001b[0mgetattr\u001b[0m\u001b[0;34m(\u001b[0m\u001b[0mself\u001b[0m\u001b[0;34m.\u001b[0m\u001b[0m_backend\u001b[0m\u001b[0;34m,\u001b[0m \u001b[0;34m'supports_timeout'\u001b[0m\u001b[0;34m,\u001b[0m \u001b[0;32mFalse\u001b[0m\u001b[0;34m)\u001b[0m\u001b[0;34m:\u001b[0m\u001b[0;34m\u001b[0m\u001b[0m\n\u001b[0;32m--> 699\u001b[0;31m                     \u001b[0mself\u001b[0m\u001b[0;34m.\u001b[0m\u001b[0m_output\u001b[0m\u001b[0;34m.\u001b[0m\u001b[0mextend\u001b[0m\u001b[0;34m(\u001b[0m\u001b[0mjob\u001b[0m\u001b[0;34m.\u001b[0m\u001b[0mget\u001b[0m\u001b[0;34m(\u001b[0m\u001b[0mtimeout\u001b[0m\u001b[0;34m=\u001b[0m\u001b[0mself\u001b[0m\u001b[0;34m.\u001b[0m\u001b[0mtimeout\u001b[0m\u001b[0;34m)\u001b[0m\u001b[0;34m)\u001b[0m\u001b[0;34m\u001b[0m\u001b[0m\n\u001b[0m\u001b[1;32m    700\u001b[0m                 \u001b[0;32melse\u001b[0m\u001b[0;34m:\u001b[0m\u001b[0;34m\u001b[0m\u001b[0m\n\u001b[1;32m    701\u001b[0m                     \u001b[0mself\u001b[0m\u001b[0;34m.\u001b[0m\u001b[0m_output\u001b[0m\u001b[0;34m.\u001b[0m\u001b[0mextend\u001b[0m\u001b[0;34m(\u001b[0m\u001b[0mjob\u001b[0m\u001b[0;34m.\u001b[0m\u001b[0mget\u001b[0m\u001b[0;34m(\u001b[0m\u001b[0;34m)\u001b[0m\u001b[0;34m)\u001b[0m\u001b[0;34m\u001b[0m\u001b[0m\n",
      "\u001b[0;32m/usr/lib/python3.6/multiprocessing/pool.py\u001b[0m in \u001b[0;36mget\u001b[0;34m(self, timeout)\u001b[0m\n\u001b[1;32m    636\u001b[0m \u001b[0;34m\u001b[0m\u001b[0m\n\u001b[1;32m    637\u001b[0m     \u001b[0;32mdef\u001b[0m \u001b[0mget\u001b[0m\u001b[0;34m(\u001b[0m\u001b[0mself\u001b[0m\u001b[0;34m,\u001b[0m \u001b[0mtimeout\u001b[0m\u001b[0;34m=\u001b[0m\u001b[0;32mNone\u001b[0m\u001b[0;34m)\u001b[0m\u001b[0;34m:\u001b[0m\u001b[0;34m\u001b[0m\u001b[0m\n\u001b[0;32m--> 638\u001b[0;31m         \u001b[0mself\u001b[0m\u001b[0;34m.\u001b[0m\u001b[0mwait\u001b[0m\u001b[0;34m(\u001b[0m\u001b[0mtimeout\u001b[0m\u001b[0;34m)\u001b[0m\u001b[0;34m\u001b[0m\u001b[0m\n\u001b[0m\u001b[1;32m    639\u001b[0m         \u001b[0;32mif\u001b[0m \u001b[0;32mnot\u001b[0m \u001b[0mself\u001b[0m\u001b[0;34m.\u001b[0m\u001b[0mready\u001b[0m\u001b[0;34m(\u001b[0m\u001b[0;34m)\u001b[0m\u001b[0;34m:\u001b[0m\u001b[0;34m\u001b[0m\u001b[0m\n\u001b[1;32m    640\u001b[0m             \u001b[0;32mraise\u001b[0m \u001b[0mTimeoutError\u001b[0m\u001b[0;34m\u001b[0m\u001b[0m\n",
      "\u001b[0;32m/usr/lib/python3.6/multiprocessing/pool.py\u001b[0m in \u001b[0;36mwait\u001b[0;34m(self, timeout)\u001b[0m\n\u001b[1;32m    633\u001b[0m \u001b[0;34m\u001b[0m\u001b[0m\n\u001b[1;32m    634\u001b[0m     \u001b[0;32mdef\u001b[0m \u001b[0mwait\u001b[0m\u001b[0;34m(\u001b[0m\u001b[0mself\u001b[0m\u001b[0;34m,\u001b[0m \u001b[0mtimeout\u001b[0m\u001b[0;34m=\u001b[0m\u001b[0;32mNone\u001b[0m\u001b[0;34m)\u001b[0m\u001b[0;34m:\u001b[0m\u001b[0;34m\u001b[0m\u001b[0m\n\u001b[0;32m--> 635\u001b[0;31m         \u001b[0mself\u001b[0m\u001b[0;34m.\u001b[0m\u001b[0m_event\u001b[0m\u001b[0;34m.\u001b[0m\u001b[0mwait\u001b[0m\u001b[0;34m(\u001b[0m\u001b[0mtimeout\u001b[0m\u001b[0;34m)\u001b[0m\u001b[0;34m\u001b[0m\u001b[0m\n\u001b[0m\u001b[1;32m    636\u001b[0m \u001b[0;34m\u001b[0m\u001b[0m\n\u001b[1;32m    637\u001b[0m     \u001b[0;32mdef\u001b[0m \u001b[0mget\u001b[0m\u001b[0;34m(\u001b[0m\u001b[0mself\u001b[0m\u001b[0;34m,\u001b[0m \u001b[0mtimeout\u001b[0m\u001b[0;34m=\u001b[0m\u001b[0;32mNone\u001b[0m\u001b[0;34m)\u001b[0m\u001b[0;34m:\u001b[0m\u001b[0;34m\u001b[0m\u001b[0m\n",
      "\u001b[0;32m/usr/lib/python3.6/threading.py\u001b[0m in \u001b[0;36mwait\u001b[0;34m(self, timeout)\u001b[0m\n\u001b[1;32m    549\u001b[0m             \u001b[0msignaled\u001b[0m \u001b[0;34m=\u001b[0m \u001b[0mself\u001b[0m\u001b[0;34m.\u001b[0m\u001b[0m_flag\u001b[0m\u001b[0;34m\u001b[0m\u001b[0m\n\u001b[1;32m    550\u001b[0m             \u001b[0;32mif\u001b[0m \u001b[0;32mnot\u001b[0m \u001b[0msignaled\u001b[0m\u001b[0;34m:\u001b[0m\u001b[0;34m\u001b[0m\u001b[0m\n\u001b[0;32m--> 551\u001b[0;31m                 \u001b[0msignaled\u001b[0m \u001b[0;34m=\u001b[0m \u001b[0mself\u001b[0m\u001b[0;34m.\u001b[0m\u001b[0m_cond\u001b[0m\u001b[0;34m.\u001b[0m\u001b[0mwait\u001b[0m\u001b[0;34m(\u001b[0m\u001b[0mtimeout\u001b[0m\u001b[0;34m)\u001b[0m\u001b[0;34m\u001b[0m\u001b[0m\n\u001b[0m\u001b[1;32m    552\u001b[0m             \u001b[0;32mreturn\u001b[0m \u001b[0msignaled\u001b[0m\u001b[0;34m\u001b[0m\u001b[0m\n\u001b[1;32m    553\u001b[0m \u001b[0;34m\u001b[0m\u001b[0m\n",
      "\u001b[0;32m/usr/lib/python3.6/threading.py\u001b[0m in \u001b[0;36mwait\u001b[0;34m(self, timeout)\u001b[0m\n\u001b[1;32m    293\u001b[0m         \u001b[0;32mtry\u001b[0m\u001b[0;34m:\u001b[0m    \u001b[0;31m# restore state no matter what (e.g., KeyboardInterrupt)\u001b[0m\u001b[0;34m\u001b[0m\u001b[0m\n\u001b[1;32m    294\u001b[0m             \u001b[0;32mif\u001b[0m \u001b[0mtimeout\u001b[0m \u001b[0;32mis\u001b[0m \u001b[0;32mNone\u001b[0m\u001b[0;34m:\u001b[0m\u001b[0;34m\u001b[0m\u001b[0m\n\u001b[0;32m--> 295\u001b[0;31m                 \u001b[0mwaiter\u001b[0m\u001b[0;34m.\u001b[0m\u001b[0macquire\u001b[0m\u001b[0;34m(\u001b[0m\u001b[0;34m)\u001b[0m\u001b[0;34m\u001b[0m\u001b[0m\n\u001b[0m\u001b[1;32m    296\u001b[0m                 \u001b[0mgotit\u001b[0m \u001b[0;34m=\u001b[0m \u001b[0;32mTrue\u001b[0m\u001b[0;34m\u001b[0m\u001b[0m\n\u001b[1;32m    297\u001b[0m             \u001b[0;32melse\u001b[0m\u001b[0;34m:\u001b[0m\u001b[0;34m\u001b[0m\u001b[0m\n",
      "\u001b[0;31mKeyboardInterrupt\u001b[0m: "
     ]
    }
   ],
   "source": [
    "#Create a Support Vector Classifier with GridSearch Cross Validation for Parameter Tuning.\n",
    "parameter_candidates = [\n",
    "  {'C': [1, 10, 100, 1000], 'kernel': ['linear']},\n",
    "  {'C': [1, 10, 100, 1000], 'gamma': [0.001, 0.0001], 'kernel': ['rbf']},\n",
    "]\n",
    "svc_grid_clf = GridSearchCV(estimator = SVC(), param_grid = parameter_candidates, n_jobs = 2)\n",
    "svc_grid_clf.fit(train_features, train_labels)"
   ]
  },
  {
   "cell_type": "code",
   "execution_count": null,
   "metadata": {
    "collapsed": true
   },
   "outputs": [],
   "source": [
    "# View the accuracy score\n",
    "print('Best score for data1:', clf.best_score_)\n",
    "print('Best C:',clf.best_estimator_.C) \n",
    "print('Best Kernel:',clf.best_estimator_.kernel)\n",
    "print('Best Gamma:',clf.best_estimator_.gamma)"
   ]
  }
 ],
 "metadata": {
  "kernelspec": {
   "display_name": "Python 3",
   "language": "python",
   "name": "python3"
  },
  "language_info": {
   "codemirror_mode": {
    "name": "ipython",
    "version": 3
   },
   "file_extension": ".py",
   "mimetype": "text/x-python",
   "name": "python",
   "nbconvert_exporter": "python",
   "pygments_lexer": "ipython3",
   "version": "3.6.3"
  }
 },
 "nbformat": 4,
 "nbformat_minor": 2
}
